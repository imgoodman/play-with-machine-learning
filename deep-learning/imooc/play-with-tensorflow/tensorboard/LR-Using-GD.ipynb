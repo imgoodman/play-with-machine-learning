{
 "cells": [
  {
   "cell_type": "code",
   "execution_count": 1,
   "metadata": {
    "collapsed": true
   },
   "outputs": [],
   "source": [
    "import numpy as np\n",
    "import matplotlib.pyplot as plt\n",
    "import tensorflow as tf"
   ]
  },
  {
   "cell_type": "code",
   "execution_count": 2,
   "metadata": {
    "collapsed": true
   },
   "outputs": [],
   "source": [
    "vectors=[]\n",
    "\n",
    "for _ in range(100):\n",
    "    x1 = np.random.normal(0.0, 0.66)\n",
    "    y1 = 0.1 * x1 + 0.2 + np.random.normal(0.0, 0.04)\n",
    "    \n",
    "    vectors.append([x1, y1])"
   ]
  },
  {
   "cell_type": "code",
   "execution_count": 3,
   "metadata": {
    "collapsed": false
   },
   "outputs": [
    {
     "data": {
      "text/plain": [
       "[[-0.8530989542785518, 0.09657819742057666],\n",
       " [0.7204268470270959, 0.254200880750012],\n",
       " [-0.26801079457956023, 0.1643328729961357],\n",
       " [0.5197400949624094, 0.26066119027445905],\n",
       " [-0.6709661629853858, 0.12373015210182778],\n",
       " [0.6973478513481196, 0.3489790291276369],\n",
       " [-0.21528333554967233, 0.240962624450063],\n",
       " [-0.2609729437750351, 0.15919122576360803],\n",
       " [-0.9835692037569448, 0.14939217734701507],\n",
       " [0.6518831926343621, 0.30215326303763024],\n",
       " [-0.8838486053410608, 0.10908613139198799],\n",
       " [0.15259725671449037, 0.1989504248295569],\n",
       " [-0.11634628454672688, 0.1791284747551226],\n",
       " [-0.24703749919726753, 0.21660333003088886],\n",
       " [0.7524126133964886, 0.2697237770878007],\n",
       " [0.7661912132130013, 0.32289836971952296],\n",
       " [0.2985652926940037, 0.1712398779915669],\n",
       " [0.18788420403283385, 0.1762649525194166],\n",
       " [-0.20687344481977069, 0.17726151560699283],\n",
       " [-0.5193077205326169, 0.1367933520048732],\n",
       " [-0.5045762248275153, 0.20869884984675438],\n",
       " [0.2471276318653354, 0.21364943062521344],\n",
       " [-0.47939775650411526, 0.1608916729678698],\n",
       " [0.4580955436202623, 0.22655029516010336],\n",
       " [1.986177683031597, 0.42113021869996103],\n",
       " [-0.012740762758761704, 0.2618005028418652],\n",
       " [0.39687024603538207, 0.23827132320662692],\n",
       " [-0.21029855137166698, 0.2100219524654979],\n",
       " [0.23913249645897525, 0.23956488319034633],\n",
       " [0.545599837263332, 0.2225978527505941],\n",
       " [1.5216411468304343, 0.3974542323456605],\n",
       " [0.3267582147771435, 0.2842725796353403],\n",
       " [-0.7722086885685511, 0.11725993040009094],\n",
       " [0.37356170375195874, 0.2532093540020355],\n",
       " [0.20898246559175646, 0.2430795661789536],\n",
       " [-0.29931897868457097, 0.1720846670979635],\n",
       " [-0.04946301474750163, 0.19018507610892862],\n",
       " [-0.22570971522975555, 0.2397731053447202],\n",
       " [-0.5156205767846871, 0.07280512437572663],\n",
       " [-1.0836132779571825, 0.06447028236492303],\n",
       " [-0.09105371977768556, 0.1894484373240225],\n",
       " [0.267382502860404, 0.16055843305466144],\n",
       " [0.5562233649411958, 0.19126052243160546],\n",
       " [-0.6921343180940626, 0.15411235287180408],\n",
       " [-1.0287313651546934, 0.0797103116761746],\n",
       " [-0.37242438781617876, 0.1444968581990538],\n",
       " [0.05853520844332975, 0.20206093621748],\n",
       " [-0.6305444154504559, 0.1383935011984254],\n",
       " [-0.13369168768459355, 0.1338117728827657],\n",
       " [0.2052215865881489, 0.14819186340236107],\n",
       " [0.386795963412543, 0.24527584353287546],\n",
       " [0.9916484649727731, 0.24066070734877618],\n",
       " [0.46065667020155693, 0.21112651782831368],\n",
       " [-0.6153920181811965, 0.18273052022060626],\n",
       " [0.7785617816633805, 0.2966915414900119],\n",
       " [0.016236770286194625, 0.17643727720648514],\n",
       " [0.16474684903564374, 0.20692599709843693],\n",
       " [-0.4232936303280932, 0.13196399200634923],\n",
       " [-0.7532246367882639, 0.0867056350967429],\n",
       " [1.3329528162499655, 0.3507665978689398],\n",
       " [-0.5847142706075018, 0.12379045543123907],\n",
       " [0.06030003152065519, 0.24739282802576645],\n",
       " [0.8506060652812736, 0.2550896345554149],\n",
       " [0.5058423662994163, 0.26640342494214536],\n",
       " [0.059907009312036894, 0.23415585420633095],\n",
       " [-0.5527461043079963, 0.199929509630151],\n",
       " [0.2267612690421318, 0.3193424582234218],\n",
       " [-0.9984678860522572, 0.08451596242837986],\n",
       " [0.06057830995274785, 0.20948168430914926],\n",
       " [-0.8744456076041817, 0.1441333949735583],\n",
       " [0.4546831153352504, 0.24137518068193037],\n",
       " [0.8824687262368135, 0.34046831388993953],\n",
       " [0.18769945966827248, 0.17205505246817657],\n",
       " [-0.2070990659446073, 0.2092370608223561],\n",
       " [-0.4724281074735251, 0.11760356862737249],\n",
       " [0.18985825610164106, 0.1388663862743833],\n",
       " [-0.5497761949767872, 0.12289487748009759],\n",
       " [-1.0369141824112538, 0.11987330245682651],\n",
       " [1.0790381838835177, 0.2770589923362552],\n",
       " [-0.5794039402803924, 0.12057092624100493],\n",
       " [0.03348287306119038, 0.21241130432375246],\n",
       " [0.21549362544065095, 0.22159312261077138],\n",
       " [0.8669628023973812, 0.3261714865490651],\n",
       " [0.4453954527053501, 0.22699979621071048],\n",
       " [0.032941857140708956, 0.22814841876657477],\n",
       " [-0.8435373537636331, 0.13804005083536874],\n",
       " [0.1040114029142124, 0.20629965088783345],\n",
       " [0.7755752672563019, 0.21941862080223615],\n",
       " [0.24636458088695576, 0.2209170312477001],\n",
       " [-0.31279095596839795, 0.1776689505739824],\n",
       " [-0.14725929942475643, 0.1932686354244803],\n",
       " [0.8441077441666047, 0.26329718413371467],\n",
       " [-0.210350778552662, 0.19232296744374394],\n",
       " [1.0531434729314166, 0.32704389179471344],\n",
       " [-1.0078078258453838, 0.03628236458441608],\n",
       " [-0.289476144340886, 0.17574481386376004],\n",
       " [0.4500961782273783, 0.25397043857413665],\n",
       " [-1.2693701711572116, 0.05429341213735757],\n",
       " [-1.006486567634688, 0.03402927715736381],\n",
       " [0.30530743684610817, 0.20207658112773016]]"
      ]
     },
     "execution_count": 3,
     "metadata": {},
     "output_type": "execute_result"
    }
   ],
   "source": [
    "vectors"
   ]
  },
  {
   "cell_type": "code",
   "execution_count": 4,
   "metadata": {
    "collapsed": true
   },
   "outputs": [],
   "source": [
    "vectors=np.array(vectors)"
   ]
  },
  {
   "cell_type": "code",
   "execution_count": 5,
   "metadata": {
    "collapsed": false
   },
   "outputs": [
    {
     "data": {
      "text/plain": [
       "(100, 2)"
      ]
     },
     "execution_count": 5,
     "metadata": {},
     "output_type": "execute_result"
    }
   ],
   "source": [
    "vectors.shape"
   ]
  },
  {
   "cell_type": "code",
   "execution_count": 9,
   "metadata": {
    "collapsed": false
   },
   "outputs": [
    {
     "data": {
      "image/png": "[encoded data removed]",
      "text/plain": [
       "<matplotlib.figure.Figure at 0x1ea2e4a160>"
      ]
     },
     "metadata": {},
     "output_type": "display_data"
    }
   ],
   "source": [
    "plt.scatter(vectors[:,0], vectors[:,1], label=\"original data\")\n",
    "plt.title(\"Using TF GD for LR\")\n",
    "plt.legend()\n",
    "plt.show()"
   ]
  },
  {
   "cell_type": "code",
   "execution_count": 11,
   "metadata": {
    "collapsed": false
   },
   "outputs": [
    {
     "name": "stdout",
     "output_type": "stream",
     "text": [
      "Step:0, train loss: 0.045739, weight: 0.008809, bias: 0.040043\n",
      "Step:1, train loss: 0.030571, weight: 0.016822, bias: 0.072057\n",
      "Step:2, train loss: 0.020736, weight: 0.024122, bias: 0.097650\n",
      "Step:3, train loss: 0.014334, weight: 0.030779, bias: 0.118108\n",
      "Step:4, train loss: 0.010145, weight: 0.036858, bias: 0.134459\n",
      "Step:5, train loss: 0.007386, weight: 0.042413, bias: 0.147527\n",
      "Step:6, train loss: 0.005555, weight: 0.047494, bias: 0.157968\n",
      "Step:7, train loss: 0.004327, weight: 0.052145, bias: 0.166309\n",
      "Step:8, train loss: 0.003494, weight: 0.056404, bias: 0.172971\n",
      "Step:9, train loss: 0.002921, weight: 0.060308, bias: 0.178291\n",
      "Step:10, train loss: 0.002520, weight: 0.063888, bias: 0.182539\n",
      "Step:11, train loss: 0.002235, weight: 0.067172, bias: 0.185928\n",
      "Step:12, train loss: 0.002029, weight: 0.070185, bias: 0.188633\n",
      "Step:13, train loss: 0.001876, weight: 0.072951, bias: 0.190789\n",
      "Step:14, train loss: 0.001761, weight: 0.075491, bias: 0.192508\n",
      "Step:15, train loss: 0.001672, weight: 0.077824, bias: 0.193878\n",
      "Step:16, train loss: 0.001603, weight: 0.079967, bias: 0.194968\n",
      "Step:17, train loss: 0.001548, weight: 0.081937, bias: 0.195835\n",
      "Step:18, train loss: 0.001504, weight: 0.083747, bias: 0.196524\n",
      "Step:19, train loss: 0.001469, weight: 0.085410, bias: 0.197072\n",
      "Step:20, train loss: 0.001439, weight: 0.086940, bias: 0.197506\n",
      "Step:21, train loss: 0.001415, weight: 0.088346, bias: 0.197850\n",
      "Step:22, train loss: 0.001395, weight: 0.089638, bias: 0.198121\n",
      "Step:23, train loss: 0.001379, weight: 0.090827, bias: 0.198336\n",
      "Step:24, train loss: 0.001365, weight: 0.091920, bias: 0.198505\n",
      "Step:25, train loss: 0.001353, weight: 0.092925, bias: 0.198637\n",
      "Step:26, train loss: 0.001343, weight: 0.093850, bias: 0.198741\n",
      "Step:27, train loss: 0.001335, weight: 0.094701, bias: 0.198822\n",
      "Step:28, train loss: 0.001328, weight: 0.095483, bias: 0.198885\n",
      "Step:29, train loss: 0.001322, weight: 0.096202, bias: 0.198933\n",
      "Step:30, train loss: 0.001317, weight: 0.096864, bias: 0.198971\n",
      "Step:31, train loss: 0.001313, weight: 0.097473, bias: 0.198999\n",
      "Step:32, train loss: 0.001309, weight: 0.098033, bias: 0.199020\n",
      "Step:33, train loss: 0.001306, weight: 0.098549, bias: 0.199036\n",
      "Step:34, train loss: 0.001303, weight: 0.099023, bias: 0.199047\n",
      "Step:35, train loss: 0.001301, weight: 0.099459, bias: 0.199055\n",
      "Step:36, train loss: 0.001300, weight: 0.099860, bias: 0.199060\n",
      "Step:37, train loss: 0.001298, weight: 0.100229, bias: 0.199064\n",
      "Step:38, train loss: 0.001297, weight: 0.100568, bias: 0.199066\n",
      "Step:39, train loss: 0.001296, weight: 0.100881, bias: 0.199066\n",
      "Step:40, train loss: 0.001295, weight: 0.101168, bias: 0.199066\n",
      "Step:41, train loss: 0.001294, weight: 0.101433, bias: 0.199066\n",
      "Step:42, train loss: 0.001293, weight: 0.101676, bias: 0.199064\n",
      "Step:43, train loss: 0.001293, weight: 0.101900, bias: 0.199063\n",
      "Step:44, train loss: 0.001292, weight: 0.102106, bias: 0.199061\n",
      "Step:45, train loss: 0.001292, weight: 0.102295, bias: 0.199059\n",
      "Step:46, train loss: 0.001291, weight: 0.102469, bias: 0.199057\n",
      "Step:47, train loss: 0.001291, weight: 0.102630, bias: 0.199056\n",
      "Step:48, train loss: 0.001291, weight: 0.102777, bias: 0.199054\n",
      "Step:49, train loss: 0.001291, weight: 0.102913, bias: 0.199052\n"
     ]
    }
   ],
   "source": [
    "tf.reset_default_graph()\n",
    "\n",
    "x=tf.placeholder(dtype=tf.float32, name=\"x\")\n",
    "y=tf.placeholder(dtype=tf.float32, name=\"y\")\n",
    "w=tf.Variable(0.0, dtype=tf.float32, name=\"w\")\n",
    "b=tf.Variable(0.0, dtype=tf.float32, name=\"b\")\n",
    "\n",
    "with tf.name_scope(\"output\"):\n",
    "    y_hat= w*x + b\n",
    "\n",
    "with tf.name_scope(\"loss\"):\n",
    "    # 以均方误差作为损失\n",
    "    loss = tf.reduce_mean(tf.square(y - y_hat))\n",
    "    \n",
    "    optimizer=tf.train.GradientDescentOptimizer(0.1)\n",
    "    train= optimizer.minimize(loss)\n",
    "    \n",
    "init = tf.global_variables_initializer()\n",
    "\n",
    "with tf.Session() as sess:\n",
    "    sess.run(init)\n",
    "    \n",
    "    for i in range(50):\n",
    "        _, train_loss, train_w, train_b= sess.run([train, loss, w, b], feed_dict={x: vectors[:,0], y:vectors[:,1]})\n",
    "        print(\"Step:%d, train loss: %f, weight: %f, bias: %f\" % (i, train_loss, train_w, train_b))"
   ]
  },
  {
   "cell_type": "code",
   "execution_count": 12,
   "metadata": {
    "collapsed": false
   },
   "outputs": [
    {
     "data": {
      "text/plain": [
       "0.10291316"
      ]
     },
     "execution_count": 12,
     "metadata": {},
     "output_type": "execute_result"
    }
   ],
   "source": [
    "train_w"
   ]
  },
  {
   "cell_type": "code",
   "execution_count": 13,
   "metadata": {
    "collapsed": false
   },
   "outputs": [
    {
     "data": {
      "text/plain": [
       "0.19905174"
      ]
     },
     "execution_count": 13,
     "metadata": {},
     "output_type": "execute_result"
    }
   ],
   "source": [
    "train_b"
   ]
  },
  {
   "cell_type": "code",
   "execution_count": 16,
   "metadata": {
    "collapsed": true
   },
   "outputs": [],
   "source": [
    "y_pred=[x_train*train_w+train_b for x_train in vectors[:,0]]"
   ]
  },
  {
   "cell_type": "code",
   "execution_count": 17,
   "metadata": {
    "collapsed": false
   },
   "outputs": [
    {
     "data": {
      "text/plain": [
       "[0.11125663189075774,\n",
       " 0.27319313838936732,\n",
       " 0.17146990103241272,\n",
       " 0.25253983133654234,\n",
       " 0.13000049228146934,\n",
       " 0.27081800610323076,\n",
       " 0.1768962502570417,\n",
       " 0.17219418847123166,\n",
       " 0.097829526733027292,\n",
       " 0.26613909458163482,\n",
       " 0.10809208824934927,\n",
       " 0.21475600309392967,\n",
       " 0.18707817443610361,\n",
       " 0.17362832905510783,\n",
       " 0.27648489455837472,\n",
       " 0.27790289375284427,\n",
       " 0.22977803437385674,\n",
       " 0.21838749421342168,\n",
       " 0.1777617386549474,\n",
       " 0.14560814125134561,\n",
       " 0.1471242059691939,\n",
       " 0.22448442235291413,\n",
       " 0.14971540161142238,\n",
       " 0.24619579599836208,\n",
       " 0.4034555518243339,\n",
       " 0.19774054567805424,\n",
       " 0.23989490738757063,\n",
       " 0.17740925012953565,\n",
       " 0.22366161773438484,\n",
       " 0.25520113903400177,\n",
       " 0.35564863073606057,\n",
       " 0.23267945696657363,\n",
       " 0.11958130443692934,\n",
       " 0.23749615173588651,\n",
       " 0.22055878289976602,\n",
       " 0.16824787699278532,\n",
       " 0.19396134282489233,\n",
       " 0.17582323861692764,\n",
       " 0.14598759685163035,\n",
       " 0.087533675302798805,\n",
       " 0.18968111210365876,\n",
       " 0.22656891505446361,\n",
       " 0.25629443979679645,\n",
       " 0.12782201062932519,\n",
       " 0.093181746164949272,\n",
       " 0.16072436860728503,\n",
       " 0.20507578083224426,\n",
       " 0.13416042189745908,\n",
       " 0.18529310425446091,\n",
       " 0.22017173897159983,\n",
       " 0.23885813116688931,\n",
       " 0.30110541110874689,\n",
       " 0.24645936961814729,\n",
       " 0.13571980292370406,\n",
       " 0.27917598799546428,\n",
       " 0.20072271506120296,\n",
       " 0.2160063559856569,\n",
       " 0.15548925430933402,\n",
       " 0.12153501312218734,\n",
       " 0.33623011910701572,\n",
       " 0.13887694675014031,\n",
       " 0.20525740434518128,\n",
       " 0.28659029260527502,\n",
       " 0.25110957221649277,\n",
       " 0.20521695718925465,\n",
       " 0.14216689164040713,\n",
       " 0.22238845567544616,\n",
       " 0.096296256315514167,\n",
       " 0.2052860428569169,\n",
       " 0.10905978042373946,\n",
       " 0.24584461223340992,\n",
       " 0.28986937960760351,\n",
       " 0.21836848158778344,\n",
       " 0.17773851927289594,\n",
       " 0.15043267019043055,\n",
       " 0.21859065014223059,\n",
       " 0.14247253438316645,\n",
       " 0.092339626614863474,\n",
       " 0.31009896289706779,\n",
       " 0.13942344960431161,\n",
       " 0.2024975659290956,\n",
       " 0.22122886691002444,\n",
       " 0.28827361604623852,\n",
       " 0.24488878955889404,\n",
       " 0.20244188827319048,\n",
       " 0.11224064637761043,\n",
       " 0.20975587953501451,\n",
       " 0.27886863637193909,\n",
       " 0.2244058943684244,\n",
       " 0.16686143329090172,\n",
       " 0.18389681850883891,\n",
       " 0.28592152986967678,\n",
       " 0.17740387526550253,\n",
       " 0.30743405646534921,\n",
       " 0.095335053633135991,\n",
       " 0.169260834140573,\n",
       " 0.24537255605856914,\n",
       " 0.068416847146636262,\n",
       " 0.09547102848569014,\n",
       " 0.23047188970778001]"
      ]
     },
     "execution_count": 17,
     "metadata": {},
     "output_type": "execute_result"
    }
   ],
   "source": [
    "y_pred"
   ]
  },
  {
   "cell_type": "code",
   "execution_count": 20,
   "metadata": {
    "collapsed": false
   },
   "outputs": [
    {
     "data": {
      "image/png": "[encoded data removed]",
      "text/plain": [
       "<matplotlib.figure.Figure at 0x1ea9ba39e8>"
      ]
     },
     "metadata": {},
     "output_type": "display_data"
    }
   ],
   "source": [
    "plt.scatter(vectors[:,0], vectors[:,1], label=\"original data\", color='r')\n",
    "plt.plot(vectors[:,0], y_pred, label=\"lr predict\")\n",
    "plt.legend()\n",
    "plt.title(\"Using TF GF LR\")\n",
    "plt.show()"
   ]
  },
  {
   "cell_type": "code",
   "execution_count": null,
   "metadata": {
    "collapsed": true
   },
   "outputs": [],
   "source": []
  }
 ],
 "metadata": {
  "kernelspec": {
   "display_name": "Python 3",
   "language": "python",
   "name": "python3"
  },
  "language_info": {
   "codemirror_mode": {
    "name": "ipython",
    "version": 3
   },
   "file_extension": ".py",
   "mimetype": "text/x-python",
   "name": "python",
   "nbconvert_exporter": "python",
   "pygments_lexer": "ipython3",
   "version": "3.5.2"
  }
 },
 "nbformat": 4,
 "nbformat_minor": 2
}
