{
 "cells": [
  {
   "cell_type": "code",
   "execution_count": 1,
   "metadata": {
    "collapsed": true
   },
   "outputs": [],
   "source": [
    "import tensorflow as tf"
   ]
  },
  {
   "cell_type": "code",
   "execution_count": 4,
   "metadata": {
    "collapsed": false
   },
   "outputs": [
    {
     "name": "stdout",
     "output_type": "stream",
     "text": [
      "y= 7.0\n"
     ]
    }
   ],
   "source": [
    "tf.reset_default_graph()\n",
    "\n",
    "# 变量 tf.Variable 需要初始化\n",
    "w=tf.Variable(2.0, dtype=tf.float32, name=\"weight\")\n",
    "b=tf.Variable(1.0, dtype=tf.float32, name=\"bias\")\n",
    "# 构建 y=w*x+b\n",
    "x=tf.placeholder(dtype=tf.float32, name=\"x\")\n",
    "\n",
    "with tf.name_scope(\"output\"):\n",
    "    y= w*x +b\n",
    "\n",
    "# 保存日志\n",
    "path=\"./log\"\n",
    "\n",
    "# 初始化变量操作\n",
    "init = tf.global_variables_initializer()\n",
    "\n",
    "with tf.Session() as sess:\n",
    "    sess.run(init)\n",
    "    \n",
    "    writer = tf.summary.FileWriter(path, sess.graph)\n",
    "    \n",
    "    result = sess.run(y, feed_dict={x:3.0})\n",
    "    \n",
    "    print(\"y=\", result)"
   ]
  },
  {
   "cell_type": "code",
   "execution_count": null,
   "metadata": {
    "collapsed": true
   },
   "outputs": [],
   "source": []
  }
 ],
 "metadata": {
  "kernelspec": {
   "display_name": "Python 3",
   "language": "python",
   "name": "python3"
  },
  "language_info": {
   "codemirror_mode": {
    "name": "ipython",
    "version": 3
   },
   "file_extension": ".py",
   "mimetype": "text/x-python",
   "name": "python",
   "nbconvert_exporter": "python",
   "pygments_lexer": "ipython3",
   "version": "3.5.2"
  }
 },
 "nbformat": 4,
 "nbformat_minor": 2
}
