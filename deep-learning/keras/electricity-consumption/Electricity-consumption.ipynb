{
 "cells": [
  {
   "cell_type": "code",
   "execution_count": 1,
   "metadata": {},
   "outputs": [],
   "source": [
    "import numpy as np\n",
    "import matplotlib.pyplot as plt\n",
    "import os\n",
    "import re\n"
   ]
  },
  {
   "cell_type": "code",
   "execution_count": 4,
   "metadata": {},
   "outputs": [],
   "source": [
    "fld = open(os.path.join(\"e:/\", \"LD2011_2014.txt\"), \"r\")\n",
    "\n",
    "data=[]\n",
    "cid=250\n",
    "\n",
    "for line in fld:\n",
    "    if line.startswith(\"\\\"\\\";\"):\n",
    "        continue\n",
    "    cols = [float(re.sub(\",\",\".\", x)) for x in line.strip().split(\";\")[1:]]\n",
    "    data.append(cols[cid])\n",
    "fld.close()"
   ]
  },
  {
   "cell_type": "code",
   "execution_count": 5,
   "metadata": {},
   "outputs": [
    {
     "data": {
      "image/png": "[encoded data removed]",
      "text/plain": [
       "<matplotlib.figure.Figure at 0x20d7c3e6ba8>"
      ]
     },
     "metadata": {},
     "output_type": "display_data"
    }
   ],
   "source": [
    "NUM_ENTRIES = 1000\n",
    "plt.plot(range(NUM_ENTRIES), data[:NUM_ENTRIES])\n",
    "plt.xlabel(\"time (1pt = 15mins)\")\n",
    "plt.ylabel(\"electricity consumption\")\n",
    "plt.show()"
   ]
  },
  {
   "cell_type": "code",
   "execution_count": 38,
   "metadata": {},
   "outputs": [],
   "source": [
    "np.save(os.path.join(\"./data\", \"LD_250.npy\"), np.array(data))"
   ]
  },
  {
   "cell_type": "code",
   "execution_count": 39,
   "metadata": {},
   "outputs": [],
   "source": [
    "from keras.layers.core import Dense\n",
    "from keras.layers.recurrent import LSTM\n",
    "from keras.models import Sequential\n",
    "from sklearn.preprocessing import MinMaxScaler\n",
    "import math"
   ]
  },
  {
   "cell_type": "code",
   "execution_count": 40,
   "metadata": {},
   "outputs": [],
   "source": [
    "data = np.load(os.path.join(\"./data\", \"LD_250.npy\"))"
   ]
  },
  {
   "cell_type": "code",
   "execution_count": 41,
   "metadata": {},
   "outputs": [
    {
     "data": {
      "text/plain": [
       "array([ 0.37875314])"
      ]
     },
     "execution_count": 41,
     "metadata": {},
     "output_type": "execute_result"
    }
   ],
   "source": [
    "data[0]"
   ]
  },
  {
   "cell_type": "code",
   "execution_count": 42,
   "metadata": {},
   "outputs": [
    {
     "data": {
      "text/plain": [
       "array([[ 0.37875314],\n",
       "       [ 0.38970776],\n",
       "       [ 0.32776504],\n",
       "       [ 0.29137096],\n",
       "       [ 0.28041635],\n",
       "       [ 0.30592859],\n",
       "       [ 0.29864978],\n",
       "       [ 0.28773156],\n",
       "       [ 0.28409215],\n",
       "       [ 0.29864978]])"
      ]
     },
     "execution_count": 42,
     "metadata": {},
     "output_type": "execute_result"
    }
   ],
   "source": [
    "data[:10]"
   ]
  },
  {
   "cell_type": "code",
   "execution_count": 43,
   "metadata": {},
   "outputs": [
    {
     "data": {
      "text/plain": [
       "(140256, 1)"
      ]
     },
     "execution_count": 43,
     "metadata": {},
     "output_type": "execute_result"
    }
   ],
   "source": [
    "data.shape"
   ]
  },
  {
   "cell_type": "code",
   "execution_count": 44,
   "metadata": {},
   "outputs": [],
   "source": [
    "data = data.reshape(-1,1)"
   ]
  },
  {
   "cell_type": "code",
   "execution_count": 45,
   "metadata": {},
   "outputs": [
    {
     "data": {
      "text/plain": [
       "(140256, 1)"
      ]
     },
     "execution_count": 45,
     "metadata": {},
     "output_type": "execute_result"
    }
   ],
   "source": [
    "data.shape"
   ]
  },
  {
   "cell_type": "code",
   "execution_count": 46,
   "metadata": {},
   "outputs": [],
   "source": [
    "scaler = MinMaxScaler(feature_range=(0,1), copy=False)\n",
    "data = scaler.fit_transform(data)"
   ]
  },
  {
   "cell_type": "code",
   "execution_count": 47,
   "metadata": {},
   "outputs": [
    {
     "data": {
      "text/plain": [
       "(140256, 1)"
      ]
     },
     "execution_count": 47,
     "metadata": {},
     "output_type": "execute_result"
    }
   ],
   "source": [
    "data.shape"
   ]
  },
  {
   "cell_type": "code",
   "execution_count": 48,
   "metadata": {},
   "outputs": [
    {
     "data": {
      "text/plain": [
       "array([[ 0.37875314],\n",
       "       [ 0.38970776],\n",
       "       [ 0.32776504],\n",
       "       [ 0.29137096],\n",
       "       [ 0.28041635],\n",
       "       [ 0.30592859],\n",
       "       [ 0.29864978],\n",
       "       [ 0.28773156],\n",
       "       [ 0.28409215],\n",
       "       [ 0.29864978]])"
      ]
     },
     "execution_count": 48,
     "metadata": {},
     "output_type": "execute_result"
    }
   ],
   "source": [
    "data[:10]"
   ]
  },
  {
   "cell_type": "code",
   "execution_count": 49,
   "metadata": {},
   "outputs": [],
   "source": [
    "NUM_TIMESTEPS=20\n",
    "\n",
    "X = np.zeros((data.shape[0], NUM_TIMESTEPS))\n",
    "Y = np.zeros((data.shape[0], 1))\n",
    "\n",
    "for i in range(len(data) - NUM_TIMESTEPS -1):\n",
    "    X[i] = data[i:i+NUM_TIMESTEPS].T\n",
    "    Y[i] = data[i+NUM_TIMESTEPS+1]\n",
    "\n",
    "X = np.expand_dims(X,axis=2)"
   ]
  },
  {
   "cell_type": "code",
   "execution_count": 50,
   "metadata": {},
   "outputs": [
    {
     "data": {
      "text/plain": [
       "(140256, 20, 1)"
      ]
     },
     "execution_count": 50,
     "metadata": {},
     "output_type": "execute_result"
    }
   ],
   "source": [
    "X.shape"
   ]
  },
  {
   "cell_type": "code",
   "execution_count": null,
   "metadata": {},
   "outputs": [],
   "source": [
    "X[-1]"
   ]
  },
  {
   "cell_type": "code",
   "execution_count": 51,
   "metadata": {},
   "outputs": [
    {
     "data": {
      "text/plain": [
       "(140256, 1)"
      ]
     },
     "execution_count": 51,
     "metadata": {},
     "output_type": "execute_result"
    }
   ],
   "source": [
    "Y.shape"
   ]
  },
  {
   "cell_type": "code",
   "execution_count": 52,
   "metadata": {},
   "outputs": [
    {
     "data": {
      "text/plain": [
       "array([[ 0.37875314],\n",
       "       [ 0.38970776],\n",
       "       [ 0.32776504],\n",
       "       [ 0.29137096],\n",
       "       [ 0.28041635],\n",
       "       [ 0.30592859],\n",
       "       [ 0.29864978],\n",
       "       [ 0.28773156],\n",
       "       [ 0.28409215],\n",
       "       [ 0.29864978],\n",
       "       [ 0.28773156],\n",
       "       [ 0.26221931],\n",
       "       [ 0.24766168],\n",
       "       [ 0.30228919],\n",
       "       [ 0.29501037],\n",
       "       [ 0.27677694],\n",
       "       [ 0.27313753],\n",
       "       [ 0.309568  ],\n",
       "       [ 0.29137096],\n",
       "       [ 0.27677694]])"
      ]
     },
     "execution_count": 52,
     "metadata": {},
     "output_type": "execute_result"
    }
   ],
   "source": [
    "X[0]"
   ]
  },
  {
   "cell_type": "code",
   "execution_count": 53,
   "metadata": {},
   "outputs": [
    {
     "data": {
      "text/plain": [
       "array([ 0.30228919])"
      ]
     },
     "execution_count": 53,
     "metadata": {},
     "output_type": "execute_result"
    }
   ],
   "source": [
    "Y[0]"
   ]
  },
  {
   "cell_type": "code",
   "execution_count": 54,
   "metadata": {},
   "outputs": [],
   "source": [
    "sp = int(0.7*len(data))"
   ]
  },
  {
   "cell_type": "code",
   "execution_count": 55,
   "metadata": {},
   "outputs": [],
   "source": [
    "Xtrain,Xtest,Ytrain,Ytest = X[:sp], X[sp:], Y[:sp],Y[sp:]"
   ]
  },
  {
   "cell_type": "code",
   "execution_count": 56,
   "metadata": {},
   "outputs": [
    {
     "data": {
      "text/plain": [
       "(98179, 20, 1)"
      ]
     },
     "execution_count": 56,
     "metadata": {},
     "output_type": "execute_result"
    }
   ],
   "source": [
    "Xtrain.shape"
   ]
  },
  {
   "cell_type": "code",
   "execution_count": 57,
   "metadata": {},
   "outputs": [
    {
     "data": {
      "text/plain": [
       "(42077, 20, 1)"
      ]
     },
     "execution_count": 57,
     "metadata": {},
     "output_type": "execute_result"
    }
   ],
   "source": [
    "Xtest.shape"
   ]
  },
  {
   "cell_type": "code",
   "execution_count": 58,
   "metadata": {},
   "outputs": [
    {
     "data": {
      "text/plain": [
       "(98179, 1)"
      ]
     },
     "execution_count": 58,
     "metadata": {},
     "output_type": "execute_result"
    }
   ],
   "source": [
    "Ytrain.shape"
   ]
  },
  {
   "cell_type": "code",
   "execution_count": 59,
   "metadata": {},
   "outputs": [],
   "source": [
    "HIDDEN_UNITS = 10\n",
    "BATCH_SIZE = 96 # 15 mins in 24 hours\n",
    "\n",
    "# stateless\n",
    "model1 = Sequential()\n",
    "model1.add(LSTM(HIDDEN_UNITS, input_shape=(NUM_TIMESTEPS, 1), return_sequences=False))\n",
    "model1.add(Dense(1))\n",
    "model1.compile(loss=\"mean_squared_error\", optimizer=\"adam\", metrics=[\"mean_squared_error\"])\n",
    "\n",
    "# stateful\n",
    "model2 =Sequential()\n",
    "model2.add(LSTM(HIDDEN_UNITS, stateful=True, batch_input_shape=(BATCH_SIZE, NUM_TIMESTEPS, 1), return_sequences=False))\n",
    "model2.add(Dense(1))\n",
    "model2.compile(loss=\"mean_squared_error\", optimizer=\"adam\", metrics=[\"mean_squared_error\"])"
   ]
  },
  {
   "cell_type": "code",
   "execution_count": 60,
   "metadata": {},
   "outputs": [
    {
     "name": "stdout",
     "output_type": "stream",
     "text": [
      "_________________________________________________________________\n",
      "Layer (type)                 Output Shape              Param #   \n",
      "=================================================================\n",
      "lstm_3 (LSTM)                (None, 10)                480       \n",
      "_________________________________________________________________\n",
      "dense_3 (Dense)              (None, 1)                 11        \n",
      "=================================================================\n",
      "Total params: 491\n",
      "Trainable params: 491\n",
      "Non-trainable params: 0\n",
      "_________________________________________________________________\n",
      "None\n"
     ]
    }
   ],
   "source": [
    "print(model1.summary())"
   ]
  },
  {
   "cell_type": "code",
   "execution_count": 61,
   "metadata": {},
   "outputs": [
    {
     "name": "stdout",
     "output_type": "stream",
     "text": [
      "_________________________________________________________________\n",
      "Layer (type)                 Output Shape              Param #   \n",
      "=================================================================\n",
      "lstm_4 (LSTM)                (96, 10)                  480       \n",
      "_________________________________________________________________\n",
      "dense_4 (Dense)              (96, 1)                   11        \n",
      "=================================================================\n",
      "Total params: 491\n",
      "Trainable params: 491\n",
      "Non-trainable params: 0\n",
      "_________________________________________________________________\n",
      "None\n"
     ]
    }
   ],
   "source": [
    "print(model2.summary())"
   ]
  },
  {
   "cell_type": "code",
   "execution_count": 62,
   "metadata": {},
   "outputs": [],
   "source": [
    "EPOCHS =5"
   ]
  },
  {
   "cell_type": "code",
   "execution_count": 63,
   "metadata": {},
   "outputs": [
    {
     "name": "stdout",
     "output_type": "stream",
     "text": [
      "Train on 98179 samples, validate on 42077 samples\n",
      "Epoch 1/5\n",
      "98179/98179 [==============================] - 10s 99us/step - loss: 0.0121 - mean_squared_error: 0.0121 - val_loss: 0.0042 - val_mean_squared_error: 0.0042\n",
      "Epoch 2/5\n",
      "98179/98179 [==============================] - 9s 89us/step - loss: 0.0049 - mean_squared_error: 0.0049 - val_loss: 0.0037 - val_mean_squared_error: 0.0037\n",
      "Epoch 3/5\n",
      "98179/98179 [==============================] - 9s 90us/step - loss: 0.0046 - mean_squared_error: 0.0046 - val_loss: 0.0037 - val_mean_squared_error: 0.0037\n",
      "Epoch 4/5\n",
      "98179/98179 [==============================] - 9s 90us/step - loss: 0.0044 - mean_squared_error: 0.0044 - val_loss: 0.0037 - val_mean_squared_error: 0.0037\n",
      "Epoch 5/5\n",
      "98179/98179 [==============================] - 9s 90us/step - loss: 0.0043 - mean_squared_error: 0.0043 - val_loss: 0.0037 - val_mean_squared_error: 0.0037\n"
     ]
    },
    {
     "data": {
      "text/plain": [
       "<keras.callbacks.History at 0x20d08d735f8>"
      ]
     },
     "execution_count": 63,
     "metadata": {},
     "output_type": "execute_result"
    }
   ],
   "source": [
    "model1.fit(Xtrain, Ytrain, epochs=EPOCHS, batch_size=BATCH_SIZE, validation_data=(Xtest,Ytest), shuffle=False)"
   ]
  },
  {
   "cell_type": "code",
   "execution_count": 64,
   "metadata": {},
   "outputs": [
    {
     "name": "stdout",
     "output_type": "stream",
     "text": [
      "42077/42077 [==============================] - 1s 18us/step\n",
      "Stateless, MSE: 0.004, RMSE: 0.061\n"
     ]
    }
   ],
   "source": [
    "score1,_ = model1.evaluate(Xtest, Ytest, batch_size=BATCH_SIZE)\n",
    "rmse1 = math.sqrt(score1)\n",
    "print(\"Stateless, MSE: {:.3f}, RMSE: {:.3f}\".format(score1, rmse1))"
   ]
  },
  {
   "cell_type": "code",
   "execution_count": 65,
   "metadata": {},
   "outputs": [],
   "source": [
    "train_size = (Xtrain.shape[0] // BATCH_SIZE) * BATCH_SIZE\n",
    "test_size = (Xtest.shape[0] // BATCH_SIZE) * BATCH_SIZE\n",
    "\n",
    "Xtrain2, Ytrain2 = Xtrain[:train_size], Ytrain[:train_size]\n",
    "Xtest2, Ytest2 = Xtest[:test_size], Ytest[:test_size]"
   ]
  },
  {
   "cell_type": "code",
   "execution_count": 66,
   "metadata": {},
   "outputs": [
    {
     "data": {
      "text/plain": [
       "(98112, 20, 1)"
      ]
     },
     "execution_count": 66,
     "metadata": {},
     "output_type": "execute_result"
    }
   ],
   "source": [
    "Xtrain2.shape"
   ]
  },
  {
   "cell_type": "code",
   "execution_count": 67,
   "metadata": {},
   "outputs": [
    {
     "data": {
      "text/plain": [
       "(42048, 20, 1)"
      ]
     },
     "execution_count": 67,
     "metadata": {},
     "output_type": "execute_result"
    }
   ],
   "source": [
    "Xtest2.shape"
   ]
  },
  {
   "cell_type": "code",
   "execution_count": 68,
   "metadata": {},
   "outputs": [
    {
     "name": "stdout",
     "output_type": "stream",
     "text": [
      "Train on 98112 samples, validate on 42048 samples\n",
      "Epoch 1/1\n",
      "98112/98112 [==============================] - 7s 76us/step - loss: 0.0086 - mean_squared_error: 0.0086 - val_loss: 0.0038 - val_mean_squared_error: 0.0038\n",
      "Train on 98112 samples, validate on 42048 samples\n",
      "Epoch 1/1\n",
      "98112/98112 [==============================] - 7s 71us/step - loss: 0.0046 - mean_squared_error: 0.0046 - val_loss: 0.0038 - val_mean_squared_error: 0.0038\n",
      "Train on 98112 samples, validate on 42048 samples\n",
      "Epoch 1/1\n",
      "98112/98112 [==============================] - 7s 72us/step - loss: 0.0043 - mean_squared_error: 0.0043 - val_loss: 0.0038 - val_mean_squared_error: 0.0038\n",
      "Train on 98112 samples, validate on 42048 samples\n",
      "Epoch 1/1\n",
      "98112/98112 [==============================] - 7s 71us/step - loss: 0.0039 - mean_squared_error: 0.0039 - val_loss: 0.0033 - val_mean_squared_error: 0.0033\n",
      "Train on 98112 samples, validate on 42048 samples\n",
      "Epoch 1/1\n",
      "98112/98112 [==============================] - 7s 71us/step - loss: 0.0038 - mean_squared_error: 0.0038 - val_loss: 0.0032 - val_mean_squared_error: 0.0032\n"
     ]
    }
   ],
   "source": [
    "for i in range(EPOCHS):\n",
    "    model2.fit(Xtrain2, Ytrain2, batch_size=BATCH_SIZE, epochs=1, validation_data=(Xtest2, Ytest2), shuffle=False)\n",
    "    model2.reset_states()"
   ]
  },
  {
   "cell_type": "code",
   "execution_count": 69,
   "metadata": {},
   "outputs": [
    {
     "name": "stdout",
     "output_type": "stream",
     "text": [
      "42048/42048 [==============================] - 1s 17us/step\n",
      "MSE: 0.003, RMSE: 0.057\n"
     ]
    }
   ],
   "source": [
    "score2, _ = model2.evaluate(Xtest2, Ytest2, batch_size=BATCH_SIZE)\n",
    "rmse2 = math.sqrt(score2)\n",
    "print(\"MSE: {:.3f}, RMSE: {:.3f}\".format(score2, rmse2))"
   ]
  },
  {
   "cell_type": "code",
   "execution_count": null,
   "metadata": {},
   "outputs": [],
   "source": []
  }
 ],
 "metadata": {
  "kernelspec": {
   "display_name": "Python 3",
   "language": "python",
   "name": "python3"
  },
  "language_info": {
   "codemirror_mode": {
    "name": "ipython",
    "version": 3
   },
   "file_extension": ".py",
   "mimetype": "text/x-python",
   "name": "python",
   "nbconvert_exporter": "python",
   "pygments_lexer": "ipython3",
   "version": "3.6.2"
  }
 },
 "nbformat": 4,
 "nbformat_minor": 2
}
