{
 "cells": [
  {
   "cell_type": "code",
   "execution_count": 1,
   "metadata": {},
   "outputs": [
    {
     "name": "stderr",
     "output_type": "stream",
     "text": [
      "Using TensorFlow backend.\n"
     ]
    }
   ],
   "source": [
    "from keras.layers import Dense, Activation\n",
    "from keras.layers.recurrent import SimpleRNN\n",
    "from keras.models import Sequential\n",
    "from keras.utils.vis_utils import plot_model\n",
    "import numpy as np"
   ]
  },
  {
   "cell_type": "code",
   "execution_count": 2,
   "metadata": {},
   "outputs": [],
   "source": [
    "with open(\"Alice_in_Wonderland.txt\", \"rb\") as fin:\n",
    "    lines=[]\n",
    "    for line in fin:\n",
    "        line = line.strip().lower()\n",
    "        line = line.decode(\"ascii\", \"ignore\")\n",
    "        if len(line)==0:\n",
    "            continue\n",
    "        lines.append(line)\n",
    "text=\" \".join(lines)"
   ]
  },
  {
   "cell_type": "code",
   "execution_count": 3,
   "metadata": {},
   "outputs": [],
   "source": [
    "text = text[693:]"
   ]
  },
  {
   "cell_type": "code",
   "execution_count": 4,
   "metadata": {},
   "outputs": [
    {
     "data": {
      "text/plain": [
       "158090"
      ]
     },
     "execution_count": 4,
     "metadata": {},
     "output_type": "execute_result"
    }
   ],
   "source": [
    "len(text)"
   ]
  },
  {
   "cell_type": "code",
   "execution_count": 5,
   "metadata": {},
   "outputs": [],
   "source": [
    "chars=set([c for c in text])\n",
    "num_chars = len(chars)\n",
    "char2index={c:i for i,c in enumerate(chars)}\n",
    "index2char={v:k for k,v in char2index.items()}"
   ]
  },
  {
   "cell_type": "code",
   "execution_count": 6,
   "metadata": {},
   "outputs": [
    {
     "data": {
      "text/plain": [
       "54"
      ]
     },
     "execution_count": 6,
     "metadata": {},
     "output_type": "execute_result"
    }
   ],
   "source": [
    "num_chars"
   ]
  },
  {
   "cell_type": "code",
   "execution_count": 7,
   "metadata": {},
   "outputs": [
    {
     "data": {
      "text/plain": [
       "{' ': 19,\n",
       " '!': 46,\n",
       " '$': 36,\n",
       " '%': 16,\n",
       " '(': 17,\n",
       " ')': 34,\n",
       " '*': 51,\n",
       " ',': 52,\n",
       " '-': 13,\n",
       " '.': 0,\n",
       " '/': 45,\n",
       " '0': 50,\n",
       " '1': 3,\n",
       " '2': 8,\n",
       " '3': 21,\n",
       " '4': 29,\n",
       " '5': 26,\n",
       " '6': 2,\n",
       " '7': 20,\n",
       " '8': 11,\n",
       " '9': 37,\n",
       " ':': 47,\n",
       " ';': 27,\n",
       " '?': 9,\n",
       " '@': 38,\n",
       " '[': 43,\n",
       " ']': 12,\n",
       " '_': 14,\n",
       " 'a': 53,\n",
       " 'b': 33,\n",
       " 'c': 39,\n",
       " 'd': 40,\n",
       " 'e': 24,\n",
       " 'f': 1,\n",
       " 'g': 10,\n",
       " 'h': 7,\n",
       " 'i': 35,\n",
       " 'j': 28,\n",
       " 'k': 48,\n",
       " 'l': 18,\n",
       " 'm': 41,\n",
       " 'n': 32,\n",
       " 'o': 49,\n",
       " 'p': 44,\n",
       " 'q': 42,\n",
       " 'r': 31,\n",
       " 's': 30,\n",
       " 't': 25,\n",
       " 'u': 23,\n",
       " 'v': 15,\n",
       " 'w': 5,\n",
       " 'x': 4,\n",
       " 'y': 22,\n",
       " 'z': 6}"
      ]
     },
     "execution_count": 7,
     "metadata": {},
     "output_type": "execute_result"
    }
   ],
   "source": [
    "char2index"
   ]
  },
  {
   "cell_type": "code",
   "execution_count": 8,
   "metadata": {},
   "outputs": [
    {
     "data": {
      "text/plain": [
       "{0: '.',\n",
       " 1: 'f',\n",
       " 2: '6',\n",
       " 3: '1',\n",
       " 4: 'x',\n",
       " 5: 'w',\n",
       " 6: 'z',\n",
       " 7: 'h',\n",
       " 8: '2',\n",
       " 9: '?',\n",
       " 10: 'g',\n",
       " 11: '8',\n",
       " 12: ']',\n",
       " 13: '-',\n",
       " 14: '_',\n",
       " 15: 'v',\n",
       " 16: '%',\n",
       " 17: '(',\n",
       " 18: 'l',\n",
       " 19: ' ',\n",
       " 20: '7',\n",
       " 21: '3',\n",
       " 22: 'y',\n",
       " 23: 'u',\n",
       " 24: 'e',\n",
       " 25: 't',\n",
       " 26: '5',\n",
       " 27: ';',\n",
       " 28: 'j',\n",
       " 29: '4',\n",
       " 30: 's',\n",
       " 31: 'r',\n",
       " 32: 'n',\n",
       " 33: 'b',\n",
       " 34: ')',\n",
       " 35: 'i',\n",
       " 36: '$',\n",
       " 37: '9',\n",
       " 38: '@',\n",
       " 39: 'c',\n",
       " 40: 'd',\n",
       " 41: 'm',\n",
       " 42: 'q',\n",
       " 43: '[',\n",
       " 44: 'p',\n",
       " 45: '/',\n",
       " 46: '!',\n",
       " 47: ':',\n",
       " 48: 'k',\n",
       " 49: 'o',\n",
       " 50: '0',\n",
       " 51: '*',\n",
       " 52: ',',\n",
       " 53: 'a'}"
      ]
     },
     "execution_count": 8,
     "metadata": {},
     "output_type": "execute_result"
    }
   ],
   "source": [
    "index2char"
   ]
  },
  {
   "cell_type": "code",
   "execution_count": 9,
   "metadata": {},
   "outputs": [],
   "source": [
    "SEQLEN=10\n",
    "STEP=1\n",
    "\n",
    "input_chars=[]\n",
    "label_chars=[]\n",
    "for i in range(0, len(text)-SEQLEN, STEP):\n",
    "    input_chars.append(text[i:i+SEQLEN])\n",
    "    label_chars.append(text[i+SEQLEN])"
   ]
  },
  {
   "cell_type": "code",
   "execution_count": 10,
   "metadata": {},
   "outputs": [
    {
     "data": {
      "text/plain": [
       "['down the r',\n",
       " 'own the ra',\n",
       " 'wn the rab',\n",
       " 'n the rabb',\n",
       " ' the rabbi',\n",
       " 'the rabbit',\n",
       " 'he rabbit-',\n",
       " 'e rabbit-h',\n",
       " ' rabbit-ho',\n",
       " 'rabbit-hol']"
      ]
     },
     "execution_count": 10,
     "metadata": {},
     "output_type": "execute_result"
    }
   ],
   "source": [
    "input_chars[:10]"
   ]
  },
  {
   "cell_type": "code",
   "execution_count": 11,
   "metadata": {},
   "outputs": [
    {
     "data": {
      "text/plain": [
       "['a', 'b', 'b', 'i', 't', '-', 'h', 'o', 'l', 'e']"
      ]
     },
     "execution_count": 11,
     "metadata": {},
     "output_type": "execute_result"
    }
   ],
   "source": [
    "label_chars[:10]"
   ]
  },
  {
   "cell_type": "code",
   "execution_count": 12,
   "metadata": {},
   "outputs": [
    {
     "data": {
      "text/plain": [
       "158080"
      ]
     },
     "execution_count": 12,
     "metadata": {},
     "output_type": "execute_result"
    }
   ],
   "source": [
    "len(input_chars)"
   ]
  },
  {
   "cell_type": "code",
   "execution_count": 13,
   "metadata": {},
   "outputs": [
    {
     "data": {
      "text/plain": [
       "158080"
      ]
     },
     "execution_count": 13,
     "metadata": {},
     "output_type": "execute_result"
    }
   ],
   "source": [
    "len(label_chars)"
   ]
  },
  {
   "cell_type": "code",
   "execution_count": 14,
   "metadata": {},
   "outputs": [],
   "source": [
    "X = np.zeros((len(input_chars), SEQLEN, num_chars), dtype=np.bool)\n",
    "y = np.zeros((len(input_chars), num_chars), dtype=np.bool)\n",
    "\n",
    "for i, input_char in enumerate(input_chars):\n",
    "    for j,ch in enumerate(input_char):\n",
    "        X[i,j,char2index[ch]]=1\n",
    "        y[i,char2index[label_chars[i]]]=1"
   ]
  },
  {
   "cell_type": "code",
   "execution_count": 16,
   "metadata": {},
   "outputs": [
    {
     "data": {
      "text/plain": [
       "array([[[False, False, False, ..., False, False, False],\n",
       "        [False, False, False, ..., False, False, False],\n",
       "        [False, False, False, ..., False, False, False],\n",
       "        ..., \n",
       "        [False, False, False, ..., False, False, False],\n",
       "        [False, False, False, ..., False, False, False],\n",
       "        [False, False, False, ..., False, False, False]],\n",
       "\n",
       "       [[False, False, False, ..., False, False, False],\n",
       "        [False, False, False, ..., False, False, False],\n",
       "        [False, False, False, ..., False, False, False],\n",
       "        ..., \n",
       "        [False, False, False, ..., False, False, False],\n",
       "        [False, False, False, ..., False, False, False],\n",
       "        [False, False, False, ..., False, False,  True]]], dtype=bool)"
      ]
     },
     "execution_count": 16,
     "metadata": {},
     "output_type": "execute_result"
    }
   ],
   "source": [
    "X[:2]"
   ]
  },
  {
   "cell_type": "code",
   "execution_count": 17,
   "metadata": {},
   "outputs": [
    {
     "data": {
      "text/plain": [
       "array([[False, False, False, False, False, False, False, False, False,\n",
       "        False, False, False, False, False, False, False, False, False,\n",
       "        False, False, False, False, False, False, False, False, False,\n",
       "        False, False, False, False, False, False, False, False, False,\n",
       "        False, False, False, False, False, False, False, False, False,\n",
       "        False, False, False, False, False, False, False, False,  True],\n",
       "       [False, False, False, False, False, False, False, False, False,\n",
       "        False, False, False, False, False, False, False, False, False,\n",
       "        False, False, False, False, False, False, False, False, False,\n",
       "        False, False, False, False, False, False,  True, False, False,\n",
       "        False, False, False, False, False, False, False, False, False,\n",
       "        False, False, False, False, False, False, False, False, False]], dtype=bool)"
      ]
     },
     "execution_count": 17,
     "metadata": {},
     "output_type": "execute_result"
    }
   ],
   "source": [
    "y[:2]"
   ]
  },
  {
   "cell_type": "markdown",
   "metadata": {},
   "source": [
    "## 超参数"
   ]
  },
  {
   "cell_type": "code",
   "execution_count": 18,
   "metadata": {},
   "outputs": [],
   "source": [
    "HIDDEN_SIZE = 128\n",
    "BATCH_SIZE = 128\n",
    "NUM_ITERATIONS = 25\n",
    "NUM_EPOCHS_PER_ITERATION = 1\n",
    "NUM_PREDS_PER_EPOCH = 100\n"
   ]
  },
  {
   "cell_type": "code",
   "execution_count": 19,
   "metadata": {},
   "outputs": [],
   "source": [
    "model = Sequential()\n",
    "model.add(SimpleRNN(HIDDEN_SIZE, return_sequences=False, input_shape=(SEQLEN, num_chars), unroll=True))\n",
    "model.add(Dense(num_chars))\n",
    "model.add(Activation(\"softmax\"))\n",
    "\n",
    "model.compile(loss=\"categorical_crossentropy\", optimizer=\"rmsprop\")"
   ]
  },
  {
   "cell_type": "code",
   "execution_count": 21,
   "metadata": {},
   "outputs": [
    {
     "name": "stdout",
     "output_type": "stream",
     "text": [
      "==================================================\n",
      "Iteration #: 0\n",
      "Epoch 1/1\n",
      "158080/158080 [==============================] - 9s 58us/step - loss: 2.0405\n",
      "Generating from seed: alked off \n",
      "alked off the said the mant the routhe said the mant the routhe said the mant the routhe said the mant the rou==================================================\n",
      "Iteration #: 1\n",
      "Epoch 1/1\n",
      "158080/158080 [==============================] - 9s 59us/step - loss: 1.9359\n",
      "Generating from seed: lking such\n",
      "lking such as could be the way her here the magr and the way her here the magr and the way her here the magr a==================================================\n",
      "Iteration #: 2\n",
      "Epoch 1/1\n",
      "158080/158080 [==============================] - 9s 59us/step - loss: 1.8566\n",
      "Generating from seed: all coming\n",
      "all coming the was the doon the hare the hare the hare the hare the hare the hare the hare the hare the hare t==================================================\n",
      "Iteration #: 3\n",
      "Epoch 1/1\n",
      "158080/158080 [==============================] - 9s 59us/step - loss: 1.7924\n",
      "Generating from seed: thing; and\n",
      "thing; and the project gutenberg-tm now she was a said the mack turtle the project gutenberg-tm now she was a ==================================================\n",
      "Iteration #: 4\n",
      "Epoch 1/1\n",
      "158080/158080 [==============================] - 9s 59us/step - loss: 1.7385\n",
      "Generating from seed:  time it v\n",
      " time it very her said the dont on the was so the was so the was so the was so the was so the was so the was s==================================================\n",
      "Iteration #: 5\n",
      "Epoch 1/1\n",
      "158080/158080 [==============================] - 9s 59us/step - loss: 1.6941\n",
      "Generating from seed: r it, mous\n",
      "r it, moust of the hatter the queen the was a little soor and the way alice the way alice the way alice the wa==================================================\n",
      "Iteration #: 6\n",
      "Epoch 1/1\n",
      "158080/158080 [==============================] - 9s 59us/step - loss: 1.6561\n",
      "Generating from seed: he march h\n",
      "he march hare to alice was a the said the mock turtle the project gutenberg-tm electronic work of the project ==================================================\n",
      "Iteration #: 7\n",
      "Epoch 1/1\n",
      "158080/158080 [==============================] - 9s 59us/step - loss: 1.6236\n",
      "Generating from seed: queens hed\n",
      "queens hed her head the more the more the more the more the more the more the more the more the more the more ==================================================\n",
      "Iteration #: 8\n",
      "Epoch 1/1\n",
      "158080/158080 [==============================] - 9s 60us/step - loss: 1.5947\n",
      "Generating from seed: ut it! and\n",
      "ut it! and the dormouse of the door of the gropent of the door of the gropent of the door of the gropent of th==================================================\n",
      "Iteration #: 9\n",
      "Epoch 1/1\n",
      "158080/158080 [==============================] - 9s 59us/step - loss: 1.5699\n",
      "Generating from seed: orld she w\n",
      "orld she was enow when the caterpillar all the project gutenberg to the caterpillar all the project gutenberg ==================================================\n",
      "Iteration #: 10\n",
      "Epoch 1/1\n",
      "158080/158080 [==============================] - 10s 61us/step - loss: 1.5495\n",
      "Generating from seed: ittle use \n",
      "ittle use of the project gutenberg-tm electronic works you may the project gutenberg-tm electronic works you m==================================================\n",
      "Iteration #: 11\n",
      "Epoch 1/1\n",
      "158080/158080 [==============================] - 9s 60us/step - loss: 1.5299\n",
      "Generating from seed:  you join \n",
      " you join the courtered to see she could not the thing the thing the thing the thing the thing the thing the t==================================================\n",
      "Iteration #: 12\n",
      "Epoch 1/1\n",
      "158080/158080 [==============================] - 10s 60us/step - loss: 1.5111\n",
      "Generating from seed: des of gra\n",
      "des of grangh of the thing to see it was the dormouse the door of the toor a ment on it was the dormouse the d==================================================\n",
      "Iteration #: 13\n",
      "Epoch 1/1\n",
      "158080/158080 [==============================] - 10s 60us/step - loss: 1.4955\n",
      "Generating from seed: le for it,\n",
      "le for it, said the dormouse see said to the was to the was to the was to the was to the was to the was to the==================================================\n",
      "Iteration #: 14\n",
      "Epoch 1/1\n",
      "158080/158080 [==============================] - 10s 60us/step - loss: 1.4822\n",
      "Generating from seed: t out unde\n",
      "t out under the poor at the door at the door at the door at the door at the door at the door at the door at th==================================================\n",
      "Iteration #: 15\n",
      "Epoch 1/1\n",
      "158080/158080 [==============================] - 10s 60us/step - loss: 1.4687\n",
      "Generating from seed: lice: he h\n",
      "lice: he her head the project gutenberg-tm electronic works and the project gutenberg-tm electronic works and ==================================================\n",
      "Iteration #: 16\n",
      "Epoch 1/1\n",
      "158080/158080 [==============================] - 10s 60us/step - loss: 1.4568\n",
      "Generating from seed: ll me your\n",
      "ll me youre alice was a little she could the project gutenberg-tm electronic works of the fortous of the court==================================================\n",
      "Iteration #: 17\n",
      "Epoch 1/1\n",
      "158080/158080 [==============================] - 10s 61us/step - loss: 1.4466\n",
      "Generating from seed:  and shut \n",
      " and shut is it had not a ment on the was to the way the mock turtle serping the white rabbit her an the was t==================================================\n",
      "Iteration #: 18\n",
      "Epoch 1/1\n",
      "158080/158080 [==============================] - 10s 61us/step - loss: 1.4360\n",
      "Generating from seed: at the pro\n",
      "at the project gutenberg-tm electronic works could not a tright as the said the caterpillar a little the poor ==================================================\n",
      "Iteration #: 19\n",
      "Epoch 1/1\n",
      "158080/158080 [==============================] - 10s 61us/step - loss: 1.4287\n",
      "Generating from seed: to listen.\n",
      "to listen. the king said to herself to the know, the dormouse the dormouse the dormouse the dormouse the dormo==================================================\n",
      "Iteration #: 20\n",
      "Epoch 1/1\n",
      "158080/158080 [==============================] - 10s 61us/step - loss: 1.4205\n",
      "Generating from seed: her head t\n",
      "her head the same and the parts and she said to herself and the parts and she said to herself and the parts an==================================================\n",
      "Iteration #: 21\n",
      "Epoch 1/1\n",
      "158080/158080 [==============================] - 10s 61us/step - loss: 1.4122\n",
      "Generating from seed: ooked roun\n",
      "ooked round the mock turtle and the mock turtle and the mock turtle and the mock turtle and the mock turtle an==================================================\n",
      "Iteration #: 22\n",
      "Epoch 1/1\n",
      "158080/158080 [==============================] - 10s 62us/step - loss: 1.4057\n",
      "Generating from seed:  and here \n",
      " and here the choke to have the mock turtle she could not a great draw the mouse, the dormouse said the caterp==================================================\n",
      "Iteration #: 23\n",
      "Epoch 1/1\n",
      "158080/158080 [==============================] - 10s 61us/step - loss: 1.3996\n",
      "Generating from seed: ange lobst\n",
      "ange lobstered to the door a sind of the winto the dormouse, said the dormouse, said the dormouse, said the do==================================================\n",
      "Iteration #: 24\n",
      "Epoch 1/1\n",
      "158080/158080 [==============================] - 10s 61us/step - loss: 1.3932\n",
      "Generating from seed: she was go\n",
      "she was good the king said the king said the king said the king said the king said the king said the king said\n"
     ]
    }
   ],
   "source": [
    "for iteration in range(NUM_ITERATIONS):\n",
    "    print(\"=\"*50)\n",
    "    print(\"Iteration #: %d\" % (iteration))\n",
    "    model.fit(X,y, batch_size=BATCH_SIZE, epochs=NUM_EPOCHS_PER_ITERATION)\n",
    "    \n",
    "    test_idx = np.random.randint(len(input_chars))\n",
    "    test_chars = input_chars[test_idx]\n",
    "    print(\"Generating from seed: %s\" % (test_chars))\n",
    "    print(test_chars, end=\"\")\n",
    "    for i in range(NUM_PREDS_PER_EPOCH):\n",
    "        Xtest = np.zeros((1, SEQLEN, num_chars))\n",
    "        for j,ch in enumerate(test_chars):\n",
    "            Xtest[0, j, char2index[ch]]=1\n",
    "        pred = model.predict(Xtest, verbose=0)[0]\n",
    "        ypred = index2char[np.argmax(pred)]\n",
    "        print(ypred, end=\"\")\n",
    "        test_chars = test_chars[1:] + ypred\n",
    "print()"
   ]
  },
  {
   "cell_type": "code",
   "execution_count": null,
   "metadata": {},
   "outputs": [],
   "source": []
  }
 ],
 "metadata": {
  "kernelspec": {
   "display_name": "Python 3",
   "language": "python",
   "name": "python3"
  },
  "language_info": {
   "codemirror_mode": {
    "name": "ipython",
    "version": 3
   },
   "file_extension": ".py",
   "mimetype": "text/x-python",
   "name": "python",
   "nbconvert_exporter": "python",
   "pygments_lexer": "ipython3",
   "version": "3.6.2"
  }
 },
 "nbformat": 4,
 "nbformat_minor": 2
}
