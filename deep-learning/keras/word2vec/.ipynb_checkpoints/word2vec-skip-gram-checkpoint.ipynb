{
 "cells": [
  {
   "cell_type": "code",
   "execution_count": 1,
   "metadata": {},
   "outputs": [],
   "source": [
    "from keras.preprocessing.text import *\n",
    "from keras.preprocessing.sequence import skipgrams"
   ]
  },
  {
   "cell_type": "code",
   "execution_count": 2,
   "metadata": {},
   "outputs": [],
   "source": [
    "text = \"I love green eggs and ham .\""
   ]
  },
  {
   "cell_type": "code",
   "execution_count": 3,
   "metadata": {},
   "outputs": [],
   "source": [
    "tokenizer = Tokenizer()\n",
    "tokenizer.fit_on_texts([text])"
   ]
  },
  {
   "cell_type": "code",
   "execution_count": 4,
   "metadata": {},
   "outputs": [
    {
     "data": {
      "text/plain": [
       "<keras.preprocessing.text.Tokenizer at 0x1b9535708d0>"
      ]
     },
     "execution_count": 4,
     "metadata": {},
     "output_type": "execute_result"
    }
   ],
   "source": [
    "tokenizer"
   ]
  },
  {
   "cell_type": "code",
   "execution_count": 5,
   "metadata": {},
   "outputs": [],
   "source": [
    "word2id = tokenizer.word_index"
   ]
  },
  {
   "cell_type": "code",
   "execution_count": 6,
   "metadata": {},
   "outputs": [
    {
     "data": {
      "text/plain": [
       "{'and': 5, 'eggs': 4, 'green': 3, 'ham': 6, 'i': 1, 'love': 2}"
      ]
     },
     "execution_count": 6,
     "metadata": {},
     "output_type": "execute_result"
    }
   ],
   "source": [
    "word2id"
   ]
  },
  {
   "cell_type": "code",
   "execution_count": 7,
   "metadata": {},
   "outputs": [],
   "source": [
    "id2word = {v:k for k,v in word2id.items()}"
   ]
  },
  {
   "cell_type": "code",
   "execution_count": 8,
   "metadata": {},
   "outputs": [
    {
     "data": {
      "text/plain": [
       "{1: 'i', 2: 'love', 3: 'green', 4: 'eggs', 5: 'and', 6: 'ham'}"
      ]
     },
     "execution_count": 8,
     "metadata": {},
     "output_type": "execute_result"
    }
   ],
   "source": [
    "id2word"
   ]
  },
  {
   "cell_type": "code",
   "execution_count": 9,
   "metadata": {},
   "outputs": [],
   "source": [
    "wids = [word2id[w] for w in text_to_word_sequence(text)]"
   ]
  },
  {
   "cell_type": "code",
   "execution_count": 10,
   "metadata": {},
   "outputs": [
    {
     "data": {
      "text/plain": [
       "[1, 2, 3, 4, 5, 6]"
      ]
     },
     "execution_count": 10,
     "metadata": {},
     "output_type": "execute_result"
    }
   ],
   "source": [
    "wids"
   ]
  },
  {
   "cell_type": "code",
   "execution_count": 11,
   "metadata": {},
   "outputs": [],
   "source": [
    "pairs,labels = skipgrams(wids, len(word2id))"
   ]
  },
  {
   "cell_type": "code",
   "execution_count": 12,
   "metadata": {},
   "outputs": [
    {
     "data": {
      "text/plain": [
       "[[1, 2],\n",
       " [3, 1],\n",
       " [3, 2],\n",
       " [2, 4],\n",
       " [1, 2],\n",
       " [2, 6],\n",
       " [2, 1],\n",
       " [1, 4],\n",
       " [4, 3],\n",
       " [6, 2],\n",
       " [3, 5],\n",
       " [4, 6],\n",
       " [1, 1],\n",
       " [3, 2],\n",
       " [4, 3],\n",
       " [4, 5],\n",
       " [2, 3],\n",
       " [3, 5],\n",
       " [2, 4],\n",
       " [6, 4],\n",
       " [5, 2],\n",
       " [5, 3],\n",
       " [3, 2],\n",
       " [4, 5],\n",
       " [5, 2],\n",
       " [2, 1],\n",
       " [5, 2],\n",
       " [6, 1],\n",
       " [1, 1],\n",
       " [3, 5],\n",
       " [6, 3],\n",
       " [6, 4],\n",
       " [5, 1],\n",
       " [3, 4],\n",
       " [6, 4],\n",
       " [2, 5],\n",
       " [2, 5],\n",
       " [2, 1],\n",
       " [3, 4],\n",
       " [5, 2],\n",
       " [6, 2],\n",
       " [4, 5],\n",
       " [1, 3],\n",
       " [5, 3],\n",
       " [1, 1],\n",
       " [6, 5],\n",
       " [5, 4],\n",
       " [4, 1],\n",
       " [5, 1],\n",
       " [4, 1],\n",
       " [4, 2],\n",
       " [3, 6],\n",
       " [2, 5],\n",
       " [5, 6],\n",
       " [1, 5],\n",
       " [4, 3]]"
      ]
     },
     "execution_count": 12,
     "metadata": {},
     "output_type": "execute_result"
    }
   ],
   "source": [
    "pairs"
   ]
  },
  {
   "cell_type": "code",
   "execution_count": 13,
   "metadata": {},
   "outputs": [
    {
     "data": {
      "text/plain": [
       "[0,\n",
       " 1,\n",
       " 0,\n",
       " 1,\n",
       " 1,\n",
       " 1,\n",
       " 1,\n",
       " 1,\n",
       " 1,\n",
       " 0,\n",
       " 0,\n",
       " 1,\n",
       " 0,\n",
       " 1,\n",
       " 0,\n",
       " 0,\n",
       " 1,\n",
       " 1,\n",
       " 0,\n",
       " 0,\n",
       " 0,\n",
       " 1,\n",
       " 0,\n",
       " 0,\n",
       " 0,\n",
       " 0,\n",
       " 0,\n",
       " 0,\n",
       " 0,\n",
       " 0,\n",
       " 1,\n",
       " 0,\n",
       " 0,\n",
       " 0,\n",
       " 1,\n",
       " 1,\n",
       " 0,\n",
       " 0,\n",
       " 1,\n",
       " 1,\n",
       " 1,\n",
       " 1,\n",
       " 1,\n",
       " 0,\n",
       " 0,\n",
       " 1,\n",
       " 1,\n",
       " 0,\n",
       " 1,\n",
       " 1,\n",
       " 1,\n",
       " 1,\n",
       " 0,\n",
       " 1,\n",
       " 1,\n",
       " 0]"
      ]
     },
     "execution_count": 13,
     "metadata": {},
     "output_type": "execute_result"
    }
   ],
   "source": [
    "labels"
   ]
  },
  {
   "cell_type": "code",
   "execution_count": 14,
   "metadata": {},
   "outputs": [
    {
     "name": "stdout",
     "output_type": "stream",
     "text": [
      "(i (1), love (2)) -> 0\n",
      "(green (3), i (1)) -> 1\n",
      "(green (3), love (2)) -> 0\n",
      "(love (2), eggs (4)) -> 1\n",
      "(i (1), love (2)) -> 1\n",
      "(love (2), ham (6)) -> 1\n",
      "(love (2), i (1)) -> 1\n",
      "(i (1), eggs (4)) -> 1\n",
      "(eggs (4), green (3)) -> 1\n",
      "(ham (6), love (2)) -> 0\n",
      "(green (3), and (5)) -> 0\n",
      "(eggs (4), ham (6)) -> 1\n",
      "(i (1), i (1)) -> 0\n",
      "(green (3), love (2)) -> 1\n",
      "(eggs (4), green (3)) -> 0\n",
      "(eggs (4), and (5)) -> 0\n",
      "(love (2), green (3)) -> 1\n",
      "(green (3), and (5)) -> 1\n",
      "(love (2), eggs (4)) -> 0\n",
      "(ham (6), eggs (4)) -> 0\n",
      "(and (5), love (2)) -> 0\n",
      "(and (5), green (3)) -> 1\n",
      "(green (3), love (2)) -> 0\n",
      "(eggs (4), and (5)) -> 0\n",
      "(and (5), love (2)) -> 0\n",
      "(love (2), i (1)) -> 0\n",
      "(and (5), love (2)) -> 0\n",
      "(ham (6), i (1)) -> 0\n",
      "(i (1), i (1)) -> 0\n",
      "(green (3), and (5)) -> 0\n",
      "(ham (6), green (3)) -> 1\n",
      "(ham (6), eggs (4)) -> 0\n",
      "(and (5), i (1)) -> 0\n",
      "(green (3), eggs (4)) -> 0\n",
      "(ham (6), eggs (4)) -> 1\n",
      "(love (2), and (5)) -> 1\n",
      "(love (2), and (5)) -> 0\n",
      "(love (2), i (1)) -> 0\n",
      "(green (3), eggs (4)) -> 1\n",
      "(and (5), love (2)) -> 1\n",
      "(ham (6), love (2)) -> 1\n",
      "(eggs (4), and (5)) -> 1\n",
      "(i (1), green (3)) -> 1\n",
      "(and (5), green (3)) -> 0\n",
      "(i (1), i (1)) -> 0\n",
      "(ham (6), and (5)) -> 1\n",
      "(and (5), eggs (4)) -> 1\n",
      "(eggs (4), i (1)) -> 0\n",
      "(and (5), i (1)) -> 1\n",
      "(eggs (4), i (1)) -> 1\n",
      "(eggs (4), love (2)) -> 1\n",
      "(green (3), ham (6)) -> 1\n",
      "(love (2), and (5)) -> 0\n",
      "(and (5), ham (6)) -> 1\n",
      "(i (1), and (5)) -> 1\n",
      "(eggs (4), green (3)) -> 0\n"
     ]
    }
   ],
   "source": [
    "for i in range(len(pairs)):\n",
    "    print(\"({:s} ({:d}), {:s} ({:d})) -> {:d}\".format(id2word[pairs[i][0]], pairs[i][0], id2word[pairs[i][1]], pairs[i][1], labels[i]))"
   ]
  },
  {
   "cell_type": "code",
   "execution_count": null,
   "metadata": {},
   "outputs": [],
   "source": []
  }
 ],
 "metadata": {
  "kernelspec": {
   "display_name": "Python 3",
   "language": "python",
   "name": "python3"
  },
  "language_info": {
   "codemirror_mode": {
    "name": "ipython",
    "version": 3
   },
   "file_extension": ".py",
   "mimetype": "text/x-python",
   "name": "python",
   "nbconvert_exporter": "python",
   "pygments_lexer": "ipython3",
   "version": "3.6.2"
  }
 },
 "nbformat": 4,
 "nbformat_minor": 2
}
