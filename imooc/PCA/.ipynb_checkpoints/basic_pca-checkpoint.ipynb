{
 "cells": [
  {
   "cell_type": "markdown",
   "metadata": {},
   "source": [
    "## 使用梯度上升发求解主成分"
   ]
  },
  {
   "cell_type": "code",
   "execution_count": 1,
   "metadata": {
    "collapsed": true
   },
   "outputs": [],
   "source": [
    "import numpy as np\n",
    "import matplotlib.pyplot as plt"
   ]
  },
  {
   "cell_type": "code",
   "execution_count": 2,
   "metadata": {
    "collapsed": true
   },
   "outputs": [],
   "source": [
    "X=np.empty((100,2))\n",
    "X[:,0]=np.random.uniform(0.0, 100.0, size=100)\n",
    "X[:,1]=0.75*X[:,0] + 3.0 + np.random.normal(0.0, 10.0, size=100)"
   ]
  },
  {
   "cell_type": "code",
   "execution_count": 3,
   "metadata": {
    "collapsed": false
   },
   "outputs": [
    {
     "data": {
      "image/png": "[encoded data removed]",
      "text/plain": [
       "<matplotlib.figure.Figure at 0xd5a2d6d470>"
      ]
     },
     "metadata": {},
     "output_type": "display_data"
    }
   ],
   "source": [
    "plt.scatter(X[:,0], X[:,1])\n",
    "plt.show()"
   ]
  },
  {
   "cell_type": "markdown",
   "metadata": {},
   "source": [
    "## 1. 首先，需要对数据进行demean，即每个维度的数据，减去对应维度数据的平均值"
   ]
  },
  {
   "cell_type": "code",
   "execution_count": 7,
   "metadata": {
    "collapsed": true
   },
   "outputs": [],
   "source": [
    "def demean(X):\n",
    "    X_mean=np.mean(X, axis=0)\n",
    "    return X - X_mean"
   ]
  },
  {
   "cell_type": "code",
   "execution_count": 4,
   "metadata": {
    "collapsed": false
   },
   "outputs": [
    {
     "data": {
      "text/plain": [
       "42.121192318898629"
      ]
     },
     "execution_count": 4,
     "metadata": {},
     "output_type": "execute_result"
    }
   ],
   "source": [
    "np.mean(X)"
   ]
  },
  {
   "cell_type": "code",
   "execution_count": 5,
   "metadata": {
    "collapsed": false
   },
   "outputs": [
    {
     "data": {
      "text/plain": [
       "array([ 46.71010492,  37.53227972])"
      ]
     },
     "execution_count": 5,
     "metadata": {},
     "output_type": "execute_result"
    }
   ],
   "source": [
    "np.mean(X, axis=0)"
   ]
  },
  {
   "cell_type": "code",
   "execution_count": 6,
   "metadata": {
    "collapsed": false
   },
   "outputs": [
    {
     "data": {
      "text/plain": [
       "array([ 41.39609881,  32.53098402,   3.69636629,  53.70902332,\n",
       "        37.41898284,  80.18763537,  52.5859392 ,  26.8717275 ,\n",
       "        39.64830547,  13.44459869,  36.6069478 ,  31.27306033,\n",
       "        69.45610571,  46.76582368,  29.20352967,  87.17419755,\n",
       "        20.29141079,  47.07932875,  70.37211518,  15.59453153,\n",
       "        44.2648319 ,  -2.1362013 ,  52.31670835,   0.25758438,\n",
       "        27.86841101,  34.01467285,  53.90030897,   3.74825389,\n",
       "        64.42989424,  78.80027747,  59.3926225 ,  41.32686432,\n",
       "        67.36247715,  59.33343017,  60.84926545,  50.84135373,\n",
       "        26.27478706,  65.92145325,  26.91141749,  21.35192524,\n",
       "        36.3165669 ,  77.77170316,  34.68287567,  61.63366727,\n",
       "        53.99545313,  38.01284925,  15.71541894,  27.47208848,\n",
       "        11.62949701,  80.00296283,   5.26571809,   1.78426377,\n",
       "        44.58849758,  71.16604008,  88.9324034 ,  23.42431185,\n",
       "        21.91646049,  64.40422144,  49.98000974,  16.75521714,\n",
       "        45.06928077,  19.00344646,  33.57178035,  86.08445002,\n",
       "        32.86488806,  33.55008685,  43.3150312 ,   4.32455695,\n",
       "        23.69855145,   8.33241574,   7.84840528,  68.89490626,\n",
       "         5.19350445,  41.77120935,  81.81202571,  50.14496677,\n",
       "        57.31347522,  54.15168311,  14.43621801,  83.07925532,\n",
       "        65.56720931,  81.01086366,  92.09816414,   5.96053145,\n",
       "        33.35433516,  74.20231075,  70.63171841,  21.01055101,\n",
       "         9.8859866 ,  22.9004936 ,  -1.07728528,  53.57713661,\n",
       "        39.22814837,  28.44498284,  15.12631348,  77.13057096,\n",
       "        77.86888334,  51.9502236 ,  74.79370732,  26.20697235])"
      ]
     },
     "execution_count": 6,
     "metadata": {},
     "output_type": "execute_result"
    }
   ],
   "source": [
    "np.mean(X,axis=1)"
   ]
  },
  {
   "cell_type": "code",
   "execution_count": 8,
   "metadata": {
    "collapsed": true
   },
   "outputs": [],
   "source": [
    "X_demean=demean(X)"
   ]
  },
  {
   "cell_type": "code",
   "execution_count": 9,
   "metadata": {
    "collapsed": false
   },
   "outputs": [
    {
     "data": {
      "text/plain": [
       "665.74741762861379"
      ]
     },
     "execution_count": 9,
     "metadata": {},
     "output_type": "execute_result"
    }
   ],
   "source": [
    "np.var(X_demean)"
   ]
  },
  {
   "cell_type": "code",
   "execution_count": 10,
   "metadata": {
    "collapsed": false
   },
   "outputs": [
    {
     "data": {
      "text/plain": [
       "-1.1723955140041654e-15"
      ]
     },
     "execution_count": 10,
     "metadata": {},
     "output_type": "execute_result"
    }
   ],
   "source": [
    "np.mean(X_demean)"
   ]
  },
  {
   "cell_type": "code",
   "execution_count": 12,
   "metadata": {
    "collapsed": false
   },
   "outputs": [
    {
     "data": {
      "image/png": "[encoded data removed]",
      "text/plain": [
       "<matplotlib.figure.Figure at 0xd5a0dbd080>"
      ]
     },
     "metadata": {},
     "output_type": "display_data"
    }
   ],
   "source": [
    "plt.scatter(X_demean[:,0], X_demean[:,1])\n",
    "plt.show()"
   ]
  },
  {
   "cell_type": "markdown",
   "metadata": {},
   "source": [
    "## 梯度上升法"
   ]
  },
  {
   "cell_type": "code",
   "execution_count": 13,
   "metadata": {
    "collapsed": true
   },
   "outputs": [],
   "source": [
    "def f(w,X):\n",
    "    return np.sum((X.dot(w))**2)/len(X)"
   ]
  },
  {
   "cell_type": "code",
   "execution_count": 14,
   "metadata": {
    "collapsed": true
   },
   "outputs": [],
   "source": [
    "def df_math(w,X):\n",
    "    return X.T.dot(X.dot(w))*2.0/len(X)"
   ]
  },
  {
   "cell_type": "code",
   "execution_count": 15,
   "metadata": {
    "collapsed": true
   },
   "outputs": [],
   "source": [
    "def df_debug(w, X, epsilon=0.0001):\n",
    "    res=np.empty(len(w))\n",
    "    for i in range(len(w)):\n",
    "        w_1=w.copy()\n",
    "        w_1[i]+=epsilon\n",
    "        w_2=w.copy()\n",
    "        w_2[i]-=epsilon\n",
    "        res[i]=(f(w_1, X) - f(w_2, X))/(2.0*epsilon)\n",
    "    return res"
   ]
  },
  {
   "cell_type": "code",
   "execution_count": 16,
   "metadata": {
    "collapsed": true
   },
   "outputs": [],
   "source": [
    "def direction(w):\n",
    "    \"\"\"\n",
    "    将向量w转化为模为1的单位向量\n",
    "    \"\"\"\n",
    "    return w/np.linalg.norm(w)\n",
    "\n",
    "def gradient_ascent(df, X, initial_w, eta, n_iters=1e4, epsilon=1e-8):\n",
    "    w=direction(initial_w)\n",
    "    i_iter=0\n",
    "    \n",
    "    while i_iter < n_iters:\n",
    "        gradient=df(w, X)\n",
    "        last_w=w\n",
    "        \"\"\"\n",
    "        注意\n",
    "        这里每次都将向量w转化为模取1的单位向量\n",
    "        \"\"\"\n",
    "        w=direction(w+eta*gradient)\n",
    "        \n",
    "        if abs(f(w,X) - f(last_w, X))<epsilon:\n",
    "            break\n",
    "        \n",
    "        i_iter+=1\n",
    "    return w"
   ]
  },
  {
   "cell_type": "code",
   "execution_count": 17,
   "metadata": {
    "collapsed": false
   },
   "outputs": [
    {
     "data": {
      "text/plain": [
       "array([ 0.76684922,  0.64182729])"
      ]
     },
     "execution_count": 17,
     "metadata": {},
     "output_type": "execute_result"
    }
   ],
   "source": [
    "\"\"\"\n",
    "注意\n",
    "不能初始化为0向量\n",
    "否则的话，梯度一上来就是0\n",
    "\"\"\"\n",
    "initial_w=np.random.random(X.shape[1])\n",
    "eta=0.01\n",
    "\"\"\"\n",
    "与线性回归的区别\n",
    "不能使用数据标准化\n",
    "\"\"\"\n",
    "w=gradient_ascent(df_debug, X_demean, initial_w, eta)\n",
    "w"
   ]
  },
  {
   "cell_type": "code",
   "execution_count": 19,
   "metadata": {
    "collapsed": false
   },
   "outputs": [
    {
     "data": {
      "text/plain": [
       "array([ 0.76684922,  0.64182729])"
      ]
     },
     "execution_count": 19,
     "metadata": {},
     "output_type": "execute_result"
    }
   ],
   "source": [
    "w=gradient_ascent(df_math, X_demean, initial_w, eta)\n",
    "w"
   ]
  },
  {
   "cell_type": "code",
   "execution_count": 20,
   "metadata": {
    "collapsed": false
   },
   "outputs": [
    {
     "data": {
      "image/png": "[encoded data removed]",
      "text/plain": [
       "<matplotlib.figure.Figure at 0xd5a0e15080>"
      ]
     },
     "metadata": {},
     "output_type": "display_data"
    }
   ],
   "source": [
    "plt.scatter(X_demean[:,0], X_demean[:,1])\n",
    "plt.plot([0, w[0]*30], [0, w[1]*30], color='r')\n",
    "plt.show()"
   ]
  },
  {
   "cell_type": "code",
   "execution_count": 21,
   "metadata": {
    "collapsed": true
   },
   "outputs": [],
   "source": [
    "X2=np.empty((100,2))\n",
    "X2[:,0]=np.random.uniform(0.0, 100.0, size=100)\n",
    "X2[:,1]=0.75*X2[:,0]+3.0\n",
    "\n",
    "X2_demean=demean(X2)"
   ]
  },
  {
   "cell_type": "code",
   "execution_count": 25,
   "metadata": {
    "collapsed": false
   },
   "outputs": [
    {
     "data": {
      "text/plain": [
       "array([ 0.80000002,  0.59999998])"
      ]
     },
     "execution_count": 25,
     "metadata": {},
     "output_type": "execute_result"
    }
   ],
   "source": [
    "w2=gradient_ascent(df_math, X2_demean,initial_w, eta)\n",
    "w2"
   ]
  },
  {
   "cell_type": "code",
   "execution_count": 27,
   "metadata": {
    "collapsed": false
   },
   "outputs": [
    {
     "data": {
      "image/png": "[encoded data removed]",
      "text/plain": [
       "<matplotlib.figure.Figure at 0xd5a30064e0>"
      ]
     },
     "metadata": {},
     "output_type": "display_data"
    }
   ],
   "source": [
    "plt.scatter(X2_demean[:,0], X2_demean[:,1])\n",
    "plt.plot([0,w2[0]*30],[0,w2[1]*30],color='r')\n",
    "plt.show()"
   ]
  },
  {
   "cell_type": "code",
   "execution_count": null,
   "metadata": {
    "collapsed": true
   },
   "outputs": [],
   "source": []
  },
  {
   "cell_type": "code",
   "execution_count": null,
   "metadata": {
    "collapsed": true
   },
   "outputs": [],
   "source": []
  }
 ],
 "metadata": {
  "kernelspec": {
   "display_name": "Python 3",
   "language": "python",
   "name": "python3"
  },
  "language_info": {
   "codemirror_mode": {
    "name": "ipython",
    "version": 3
   },
   "file_extension": ".py",
   "mimetype": "text/x-python",
   "name": "python",
   "nbconvert_exporter": "python",
   "pygments_lexer": "ipython3",
   "version": "3.5.2"
  }
 },
 "nbformat": 4,
 "nbformat_minor": 2
}
