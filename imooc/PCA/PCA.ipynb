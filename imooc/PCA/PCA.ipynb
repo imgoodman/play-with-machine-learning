{
 "cells": [
  {
   "cell_type": "code",
   "execution_count": 1,
   "metadata": {
    "collapsed": true
   },
   "outputs": [],
   "source": [
    "import numpy as np"
   ]
  },
  {
   "cell_type": "code",
   "execution_count": 12,
   "metadata": {
    "collapsed": true
   },
   "outputs": [],
   "source": [
    "class PCA:\n",
    "    def __init__(self, n_components):\n",
    "        \"\"\"\n",
    "        初始化PCA\n",
    "        \"\"\"\n",
    "        assert n_components>=1, \"n_components 必须大于1\"\n",
    "        \n",
    "        self.n_components=n_components\n",
    "        self.components_=None\n",
    "    \n",
    "    def fit(self, X, eta=0.01,n_iters=1e4):\n",
    "        \"\"\"\n",
    "        获得数据集X的n_components主成分\n",
    "        \"\"\"\n",
    "        assert self.n_components <= X.shape[1], \"主成分数量不能大于数据的维度\"\n",
    "        \n",
    "        def demean(X):\n",
    "            \"\"\"\n",
    "            将数据集的均值变为0\n",
    "            \"\"\"\n",
    "            return X - np.mean(X, axis=0)\n",
    "        def f(w, X):\n",
    "            \"\"\"\n",
    "            目标函数\n",
    "            \"\"\"\n",
    "            return np.sum(X.dot(w)**2)/len(X)\n",
    "        def df(w, X):\n",
    "            \"\"\"\n",
    "            目标函数的梯度\n",
    "            \"\"\"\n",
    "            return X.T.dot(X.dot(w))*2/len(X)\n",
    "        def direction(w):\n",
    "            \"\"\"\n",
    "            将向量转化为标准向量\n",
    "            \"\"\"\n",
    "            return w/np.linalg.norm(w)\n",
    "        def first_components(X, initial_w, eta=0.01, n_iters=1e4, epsilon=1e-8):\n",
    "            w=direction(initial_w)\n",
    "            cur_iter=0\n",
    "            \n",
    "            while cur_iter<n_iters:\n",
    "                gradient=df(w, X)\n",
    "                last_w=w\n",
    "                w=w+eta*gradient\n",
    "                w=direction(w)\n",
    "                if abs(f(w,X) - f(last_w, X))<epsilon:\n",
    "                    break\n",
    "                cur_iter+=1\n",
    "            return w\n",
    "        X_pca=demean(X)\n",
    "        self.components_=np.empty((self.n_components, X.shape[1]))\n",
    "        for i in range(self.n_components):\n",
    "            initial_w=np.random.random(X_pca.shape[1])\n",
    "            w=first_components(X_pca, initial_w, eta, n_iters)\n",
    "            self.components_[i,:]=w\n",
    "            \n",
    "            X_pca=X_pca - X_pca.dot(w).reshape(-1,1)*w\n",
    "        return self\n",
    "    \n",
    "    def transform(self, X):\n",
    "        \"\"\"\n",
    "        将X，映射到各个主成分分量中\n",
    "        \"\"\"\n",
    "        assert X.shape[1]==self.components_.shape[1], \"维度要一致\"\n",
    "        \n",
    "        return X.dot(self.components_.T)\n",
    "    \n",
    "    def inverse_transform(self,X):\n",
    "        \"\"\"\n",
    "        将X，反向映射到原来的特征空间\n",
    "        \"\"\"\n",
    "        assert X.shape[1]==self.components_.shape[0]\n",
    "        \n",
    "        return X.dot(self.components_)\n",
    "    \n",
    "    def __repr__(self):\n",
    "        return \"PCA(n_components=%d)\" % self.n_components"
   ]
  },
  {
   "cell_type": "code",
   "execution_count": 3,
   "metadata": {
    "collapsed": true
   },
   "outputs": [],
   "source": [
    "X=np.empty((100,2))\n",
    "X[:,0]=np.random.uniform(0.0,100.0,size=100)\n",
    "X[:,1]=0.75*X[:,0]+3.0+np.random.normal(0.0,10.0,size=100)"
   ]
  },
  {
   "cell_type": "code",
   "execution_count": 4,
   "metadata": {
    "collapsed": false
   },
   "outputs": [
    {
     "data": {
      "text/plain": [
       "(100, 2)"
      ]
     },
     "execution_count": 4,
     "metadata": {},
     "output_type": "execute_result"
    }
   ],
   "source": [
    "X.shape"
   ]
  },
  {
   "cell_type": "code",
   "execution_count": 5,
   "metadata": {
    "collapsed": false
   },
   "outputs": [
    {
     "data": {
      "text/plain": [
       "PCA(n_components=2)"
      ]
     },
     "execution_count": 5,
     "metadata": {},
     "output_type": "execute_result"
    }
   ],
   "source": [
    "pca=PCA(n_components=2)\n",
    "pca.fit(X)"
   ]
  },
  {
   "cell_type": "code",
   "execution_count": 6,
   "metadata": {
    "collapsed": false
   },
   "outputs": [
    {
     "data": {
      "text/plain": [
       "array([[ 0.78555534,  0.61879141],\n",
       "       [ 0.61879437, -0.78555301]])"
      ]
     },
     "execution_count": 6,
     "metadata": {},
     "output_type": "execute_result"
    }
   ],
   "source": [
    "pca.components_"
   ]
  },
  {
   "cell_type": "code",
   "execution_count": 14,
   "metadata": {
    "collapsed": false
   },
   "outputs": [
    {
     "data": {
      "text/plain": [
       "PCA(n_components=1)"
      ]
     },
     "execution_count": 14,
     "metadata": {},
     "output_type": "execute_result"
    }
   ],
   "source": [
    "pca=PCA(n_components=1)\n",
    "pca.fit(X)"
   ]
  },
  {
   "cell_type": "code",
   "execution_count": 15,
   "metadata": {
    "collapsed": false
   },
   "outputs": [
    {
     "data": {
      "text/plain": [
       "array([[ 0.78555538,  0.61879135]])"
      ]
     },
     "execution_count": 15,
     "metadata": {},
     "output_type": "execute_result"
    }
   ],
   "source": [
    "pca.components_"
   ]
  },
  {
   "cell_type": "code",
   "execution_count": 16,
   "metadata": {
    "collapsed": true
   },
   "outputs": [],
   "source": [
    "x_reduction=pca.transform(X)"
   ]
  },
  {
   "cell_type": "code",
   "execution_count": 17,
   "metadata": {
    "collapsed": false
   },
   "outputs": [
    {
     "data": {
      "text/plain": [
       "(100, 1)"
      ]
     },
     "execution_count": 17,
     "metadata": {},
     "output_type": "execute_result"
    }
   ],
   "source": [
    "x_reduction.shape"
   ]
  },
  {
   "cell_type": "code",
   "execution_count": 18,
   "metadata": {
    "collapsed": false
   },
   "outputs": [],
   "source": [
    "x_restore=pca.inverse_transform(x_reduction)"
   ]
  },
  {
   "cell_type": "code",
   "execution_count": 19,
   "metadata": {
    "collapsed": false
   },
   "outputs": [
    {
     "data": {
      "text/plain": [
       "(100, 2)"
      ]
     },
     "execution_count": 19,
     "metadata": {},
     "output_type": "execute_result"
    }
   ],
   "source": [
    "x_restore.shape"
   ]
  },
  {
   "cell_type": "code",
   "execution_count": 20,
   "metadata": {
    "collapsed": true
   },
   "outputs": [],
   "source": [
    "import matplotlib.pyplot as plt"
   ]
  },
  {
   "cell_type": "code",
   "execution_count": 22,
   "metadata": {
    "collapsed": false
   },
   "outputs": [
    {
     "data": {
      "image/png": "[encoded data removed]",
      "text/plain": [
       "<matplotlib.figure.Figure at 0xf2ea47978>"
      ]
     },
     "metadata": {},
     "output_type": "display_data"
    }
   ],
   "source": [
    "plt.scatter(X[:,0],X[:,1], color='b',alpha=0.5)\n",
    "plt.scatter(x_restore[:,0], x_restore[:,1], color='r', alpha=0.5)\n",
    "plt.show()"
   ]
  },
  {
   "cell_type": "code",
   "execution_count": null,
   "metadata": {
    "collapsed": true
   },
   "outputs": [],
   "source": []
  }
 ],
 "metadata": {
  "kernelspec": {
   "display_name": "Python 3",
   "language": "python",
   "name": "python3"
  },
  "language_info": {
   "codemirror_mode": {
    "name": "ipython",
    "version": 3
   },
   "file_extension": ".py",
   "mimetype": "text/x-python",
   "name": "python",
   "nbconvert_exporter": "python",
   "pygments_lexer": "ipython3",
   "version": "3.5.2"
  }
 },
 "nbformat": 4,
 "nbformat_minor": 2
}
