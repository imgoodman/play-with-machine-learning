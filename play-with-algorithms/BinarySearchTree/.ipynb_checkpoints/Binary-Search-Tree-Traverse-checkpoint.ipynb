{
 "cells": [
  {
   "cell_type": "markdown",
   "metadata": {},
   "source": [
    "# 二分搜索树的遍历"
   ]
  },
  {
   "cell_type": "markdown",
   "metadata": {},
   "source": [
    "## 二分搜索树的前、中、后序遍历\n",
    "\n",
    "## 前序遍历：先访问自身，再访问左子树，再访问右子树\n",
    "## 中序遍历：先访问左子树，再访问自身，再访问右子树\n",
    "## 后序遍历：先访问左子树，再访问右子树，再访问自身\n",
    "\n",
    "## 从上述可以看出，所谓的前、中、后，是针对当前节点而言的。先访问当前节点，则是前。"
   ]
  },
  {
   "cell_type": "code",
   "execution_count": null,
   "metadata": {},
   "outputs": [],
   "source": []
  }
 ],
 "metadata": {
  "kernelspec": {
   "display_name": "Python 3",
   "language": "python",
   "name": "python3"
  },
  "language_info": {
   "codemirror_mode": {
    "name": "ipython",
    "version": 3
   },
   "file_extension": ".py",
   "mimetype": "text/x-python",
   "name": "python",
   "nbconvert_exporter": "python",
   "pygments_lexer": "ipython3",
   "version": "3.6.2"
  }
 },
 "nbformat": 4,
 "nbformat_minor": 2
}
