{
 "cells": [
  {
   "cell_type": "markdown",
   "metadata": {},
   "source": [
    "# 二分搜索树\n",
    "\n",
    "## （1）是二叉树\n",
    "## （2） 每个节点的键值大于左孩子\n",
    "## （3）每个节点的键值小于右孩子\n",
    "## （4）以左右孩子为根的子树，仍然是二分搜索树\n",
    "## （5）不一定是完全二叉树"
   ]
  },
  {
   "cell_type": "code",
   "execution_count": 1,
   "metadata": {},
   "outputs": [],
   "source": [
    "class Node:\n",
    "    def __init__(self, key, value):\n",
    "        self.key = key\n",
    "        self.value = value\n",
    "        self.left = None\n",
    "        self.right = None\n",
    "        \n",
    "class BST:\n",
    "    def __init__(self):\n",
    "        \"\"\"\n",
    "        构造函数\n",
    "        \"\"\"\n",
    "        self.__root=None\n",
    "        self.__count=0\n",
    "    \n",
    "    def __del__(self):\n",
    "        \"\"\"\n",
    "        析构函数\n",
    "        采用后序遍历的方式，先释放左子树，再释放右子树，最后释放自身\n",
    "        \"\"\"\n",
    "        self.__destroy(self.__root)\n",
    "    \n",
    "    def __destroy(self, node):\n",
    "        \"\"\"\n",
    "        以node为根节点，采用后序遍历的方式，释放整个node\n",
    "        \"\"\"\n",
    "        if node!=None:\n",
    "            self.__destroy(node.left)\n",
    "            self.__destroy(node.right)\n",
    "            \n",
    "            del node\n",
    "            \n",
    "            self.__count-=1\n",
    "    \n",
    "    def size(self):\n",
    "        return self.__count\n",
    "    def isEmpty(self):\n",
    "        return self.__count==0\n",
    "    \n",
    "    def insert(self, key, value):\n",
    "        \"\"\"\n",
    "        向二分搜索树中插入新的节点\n",
    "        如果已经存在相同key的，则用新的value覆盖\n",
    "        \"\"\"\n",
    "        if self.__root==None:\n",
    "            self.__root=Node(key, value)\n",
    "        else:\n",
    "            self.__insert(self.__root, key, value)\n",
    "    \n",
    "    def __insert(self, node, key, value):\n",
    "        \"\"\"\n",
    "        在node节点为根，尝试插入新的节点\n",
    "        \"\"\"\n",
    "        assert node!=None\n",
    "        \n",
    "        root=node\n",
    "        \n",
    "        while True:\n",
    "            if root.key==key:\n",
    "                # 键相同 覆盖\n",
    "                root.value=value\n",
    "                break\n",
    "            \n",
    "            if root.key>key:\n",
    "                # 插入到左孩子\n",
    "                if root.left!=None:\n",
    "                    root=root.left\n",
    "                else:\n",
    "                    # 如果没有左孩子，则新建node，作为左孩子\n",
    "                    root.left=Node(key,value)\n",
    "                    self.__count+=1\n",
    "                    break\n",
    "            else:\n",
    "                # 插入到右孩子\n",
    "                if root.right!=None:\n",
    "                    root=root.right\n",
    "                else:\n",
    "                    # 如果没有右孩子，则新建node，作为右孩子\n",
    "                    root.right=Node(key, value)\n",
    "                    self.__count+=1\n",
    "                    break\n",
    "    \n",
    "    def contain(self, key):\n",
    "        \"\"\"\n",
    "        从根节点开始，查找对应的key\n",
    "        \"\"\"\n",
    "        return self.__contain(self.__root, key)\n",
    "    \n",
    "    def __contain(self, node, key):\n",
    "        \"\"\"\n",
    "        以node为根节点，查找key。如果找到了，则返回True；否则，返回False\n",
    "        \"\"\"\n",
    "        assert node!=None\n",
    "        \n",
    "        root=node\n",
    "        \n",
    "        while True:\n",
    "            if root.key==key:\n",
    "                return True\n",
    "            \n",
    "            if root.key>key:\n",
    "                if root.left==None:\n",
    "                    return False\n",
    "                else:\n",
    "                    root=root.left\n",
    "            else:\n",
    "                if root.right==None:\n",
    "                    return False\n",
    "                else:\n",
    "                    root=root.right\n",
    "    \n",
    "    def search(self, key):\n",
    "        \"\"\"\n",
    "        从根节点开始，查找key\n",
    "        存在，则返回value\n",
    "        否则，返回None\n",
    "        \"\"\"\n",
    "        return self.__search(self.__root, key)\n",
    "        \n",
    "    def __search(self, node, key):\n",
    "        assert node!=None\n",
    "        \n",
    "        root=node\n",
    "        while True:\n",
    "            if root.key==key:\n",
    "                return root.value\n",
    "            \n",
    "            if root.key>key:\n",
    "                if root.left==None:\n",
    "                    return None\n",
    "                else:\n",
    "                    root=root.left\n",
    "            else:\n",
    "                if root.right==None:\n",
    "                    return None\n",
    "                else:\n",
    "                    root=root.right\n",
    "    \n",
    "    def preOrder(self):\n",
    "        \"\"\"\n",
    "        前序遍历二分搜索树\n",
    "        \"\"\"\n",
    "        self.__preOrder(self.__root)\n",
    "    \n",
    "    def __preOrder(self, node):\n",
    "        \"\"\"\n",
    "        以node为根节点，前序遍历二分搜索树\n",
    "        \"\"\"\n",
    "        if node!=None:\n",
    "            print(node.key)\n",
    "            \n",
    "            self.__preOrder(node.left)\n",
    "            self.__preOrder(node.right)\n",
    "    \n",
    "    def inOrder(self):\n",
    "        \"\"\"\n",
    "        中序遍历二分搜索树\n",
    "        \"\"\"\n",
    "        self.__inOrder(self.__root)\n",
    "    \n",
    "    def __inOrder(self, node):\n",
    "        \"\"\"\n",
    "        以node为根节点，中序遍历二分搜索树\n",
    "        \"\"\"\n",
    "        if node!=None:\n",
    "            self.__inOrder(node.left)\n",
    "            print(node.key)\n",
    "            self.__inOrder(node.right)\n",
    "    \n",
    "    def postOrder(self):\n",
    "        \"\"\"\n",
    "        后序遍历二分搜索树\n",
    "        \"\"\"\n",
    "        self.__postOrder(self.__root)\n",
    "    \n",
    "    def __postOrder(self, node):\n",
    "        \"\"\"\n",
    "        以node为根节点，后序遍历二分搜索树\n",
    "        \"\"\"\n",
    "        if node!=None:\n",
    "            self.__postOrder(node.left)\n",
    "            self.__postOrder(node.right)\n",
    "            \n",
    "            print(node.key)\n",
    "    \n",
    "    def levelOrder(self):\n",
    "        \"\"\"\n",
    "        广度优先（层序）遍历二分搜索树\n",
    "        \"\"\"\n",
    "        import queue\n",
    "        \n",
    "        q=queue.Queue()\n",
    "        \n",
    "        q.put(self.__root)\n",
    "        \n",
    "        while not q.empty():\n",
    "            node=q.get()\n",
    "            print(node.key)\n",
    "            if node.left!=None:\n",
    "                q.put(node.left)\n",
    "            if node.right!=None:\n",
    "                q.put(node.right)"
   ]
  },
  {
   "cell_type": "code",
   "execution_count": 2,
   "metadata": {},
   "outputs": [],
   "source": [
    "bst=BST()\n",
    "bst.insert(5, \"five\")"
   ]
  },
  {
   "cell_type": "code",
   "execution_count": 3,
   "metadata": {},
   "outputs": [
    {
     "data": {
      "text/plain": [
       "True"
      ]
     },
     "execution_count": 3,
     "metadata": {},
     "output_type": "execute_result"
    }
   ],
   "source": [
    "bst.contain(5)"
   ]
  },
  {
   "cell_type": "code",
   "execution_count": 4,
   "metadata": {},
   "outputs": [
    {
     "data": {
      "text/plain": [
       "False"
      ]
     },
     "execution_count": 4,
     "metadata": {},
     "output_type": "execute_result"
    }
   ],
   "source": [
    "bst.contain(6)"
   ]
  },
  {
   "cell_type": "code",
   "execution_count": 5,
   "metadata": {},
   "outputs": [
    {
     "data": {
      "text/plain": [
       "'five'"
      ]
     },
     "execution_count": 5,
     "metadata": {},
     "output_type": "execute_result"
    }
   ],
   "source": [
    "bst.search(5)"
   ]
  },
  {
   "cell_type": "code",
   "execution_count": 6,
   "metadata": {},
   "outputs": [],
   "source": [
    "bst.search(7)"
   ]
  },
  {
   "cell_type": "code",
   "execution_count": 7,
   "metadata": {},
   "outputs": [],
   "source": [
    "bst2=BST()\n",
    "\n",
    "bst2.insert(\"happy\", 12)\n",
    "bst2.insert(\"memory\", 6)"
   ]
  },
  {
   "cell_type": "code",
   "execution_count": 8,
   "metadata": {},
   "outputs": [
    {
     "data": {
      "text/plain": [
       "True"
      ]
     },
     "execution_count": 8,
     "metadata": {},
     "output_type": "execute_result"
    }
   ],
   "source": [
    "bst2.contain(\"happy\")"
   ]
  },
  {
   "cell_type": "code",
   "execution_count": 9,
   "metadata": {},
   "outputs": [
    {
     "data": {
      "text/plain": [
       "False"
      ]
     },
     "execution_count": 9,
     "metadata": {},
     "output_type": "execute_result"
    }
   ],
   "source": [
    "bst2.contain(\"bad\")"
   ]
  },
  {
   "cell_type": "code",
   "execution_count": 10,
   "metadata": {},
   "outputs": [
    {
     "data": {
      "text/plain": [
       "6"
      ]
     },
     "execution_count": 10,
     "metadata": {},
     "output_type": "execute_result"
    }
   ],
   "source": [
    "bst2.search(\"memory\")"
   ]
  },
  {
   "cell_type": "code",
   "execution_count": 11,
   "metadata": {},
   "outputs": [
    {
     "name": "stdout",
     "output_type": "stream",
     "text": [
      "happy\n",
      "memory\n"
     ]
    }
   ],
   "source": [
    "bst2.preOrder()"
   ]
  },
  {
   "cell_type": "code",
   "execution_count": 12,
   "metadata": {},
   "outputs": [
    {
     "name": "stdout",
     "output_type": "stream",
     "text": [
      "happy\n",
      "memory\n"
     ]
    }
   ],
   "source": [
    "bst2.inOrder()"
   ]
  },
  {
   "cell_type": "code",
   "execution_count": 13,
   "metadata": {},
   "outputs": [
    {
     "name": "stdout",
     "output_type": "stream",
     "text": [
      "memory\n",
      "happy\n"
     ]
    }
   ],
   "source": [
    "bst2.postOrder()"
   ]
  },
  {
   "cell_type": "code",
   "execution_count": 14,
   "metadata": {},
   "outputs": [
    {
     "name": "stdout",
     "output_type": "stream",
     "text": [
      "happy\n",
      "memory\n"
     ]
    }
   ],
   "source": [
    "bst2.levelOrder()"
   ]
  },
  {
   "cell_type": "code",
   "execution_count": null,
   "metadata": {},
   "outputs": [],
   "source": []
  }
 ],
 "metadata": {
  "kernelspec": {
   "display_name": "Python 3",
   "language": "python",
   "name": "python3"
  },
  "language_info": {
   "codemirror_mode": {
    "name": "ipython",
    "version": 3
   },
   "file_extension": ".py",
   "mimetype": "text/x-python",
   "name": "python",
   "nbconvert_exporter": "python",
   "pygments_lexer": "ipython3",
   "version": "3.6.2"
  }
 },
 "nbformat": 4,
 "nbformat_minor": 2
}
