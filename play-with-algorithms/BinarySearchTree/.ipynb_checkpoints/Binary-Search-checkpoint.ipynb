{
 "cells": [
  {
   "cell_type": "markdown",
   "metadata": {},
   "source": [
    "# 二分查找法\n",
    "\n",
    "## 只能用于已经排序好的数组"
   ]
  },
  {
   "cell_type": "markdown",
   "metadata": {},
   "source": [
    "## !!!定义变量，就要明确变量的含义，并且，在所有过程中，都要维持这变量的定义"
   ]
  },
  {
   "cell_type": "code",
   "execution_count": null,
   "metadata": {},
   "outputs": [],
   "source": [
    "def binarySearch(arr, target):\n",
    "    # 在 arr[l...r] 前闭后闭的数组中查找目标\n",
    "    l=0\n",
    "    r=len(arr)-1\n",
    "    \n",
    "    while l<=r:\n",
    "        # 防止 较大数字相加，导致溢出\n",
    "        mid = l + int((r-l)/2)\n",
    "        \n",
    "        if arr[mid]==target:\n",
    "            return mid\n",
    "        \n",
    "        if arr[mid]>target:\n",
    "            r=mid-1\n",
    "        else:\n",
    "            l=mid+1\n",
    "    return -1"
   ]
  }
 ],
 "metadata": {
  "kernelspec": {
   "display_name": "Python 3",
   "language": "python",
   "name": "python3"
  },
  "language_info": {
   "codemirror_mode": {
    "name": "ipython",
    "version": 3
   },
   "file_extension": ".py",
   "mimetype": "text/x-python",
   "name": "python",
   "nbconvert_exporter": "python",
   "pygments_lexer": "ipython3",
   "version": "3.6.2"
  }
 },
 "nbformat": 4,
 "nbformat_minor": 2
}
