{
 "cells": [
  {
   "cell_type": "markdown",
   "metadata": {},
   "source": [
    "# 深度优先遍历树"
   ]
  },
  {
   "cell_type": "code",
   "execution_count": 1,
   "metadata": {
    "collapsed": true
   },
   "outputs": [],
   "source": [
    "class Graph:\n",
    "    def __init__(self, n, directed=False):\n",
    "        self.__n=n\n",
    "        self.__m=0\n",
    "        self.__directed=directed\n",
    "        # 以邻接矩阵的形式存储连接关系\n",
    "        self.__g=[[False for i in range(n)] for i in range(n)]\n",
    "        \n",
    "        # 节点i是否被访问\n",
    "        self.__visited=[False for i in range(n)]\n",
    "        # 访问节点i的时候，从那个节点过来的\n",
    "        self.__from=[-1 for i in range(n)]\n",
    "    \n",
    "    def hasEdge(self, v, w):\n",
    "        return self.__g[v][w]\n",
    "    \n",
    "    def addEdge(self, v, w):\n",
    "        assert v>=0 and v<self.__n and w>=0 and w<self.__n\n",
    "        \n",
    "        if self.hasEdge(v,w):\n",
    "            return\n",
    "        \n",
    "        self.__g[v][w]=True\n",
    "        if not self.__directed:\n",
    "            self.__g[w][v]=True\n",
    "        self.__m+=1\n",
    "    \n",
    "    def getAdjacents(self, v):\n",
    "        \"\"\"\n",
    "        获得节点v的连接节点\n",
    "        \"\"\"\n",
    "        assert v>=0 and v<self.__n\n",
    "        \n",
    "        res=[]\n",
    "        for i in range(self.__n):\n",
    "            if self.__g[v][i]==True:\n",
    "                res.append(i)\n",
    "        return res\n",
    "    \n",
    "    def path(self, source):\n",
    "        \"\"\"\n",
    "        先调用\n",
    "        从source到任意点的路径\n",
    "        \"\"\"\n",
    "        assert source>=0 and source<self.__n\n",
    "        \n",
    "        self.__s = source\n",
    "        \n",
    "        self.__dfs(source)\n",
    "        \n",
    "    def getFrom(self):\n",
    "        return self.__from\n",
    "    \n",
    "    def __dfs(self, v):\n",
    "        assert v>=0 and v<self.__n\n",
    "        \n",
    "        adjacents=self.getAdjacents(v)\n",
    "        self.__visited[v]=True\n",
    "        for adja in adjacents:\n",
    "            if not self.__visited[adja]:\n",
    "                # 表示从 v，来访问adja的\n",
    "                self.__from[adja]=v\n",
    "                \n",
    "                self.__dfs(adja)\n",
    "\n",
    "    def hasPath(self, w):\n",
    "        \"\"\"\n",
    "        先调用path方法\n",
    "        从source到w，是否存在路径\n",
    "        \"\"\"\n",
    "        assert w>=0 and w<self.__n\n",
    "        \n",
    "        return self.__visited[w]\n",
    "    \n",
    "    def getPath(self, w):\n",
    "        \"\"\"\n",
    "        先调用path方法\n",
    "        从source到w的路径\n",
    "        \"\"\"\n",
    "        res=[]\n",
    "        p=w\n",
    "        while p!=-1:\n",
    "            res.append(p)\n",
    "            p=self.__from[p]\n",
    "        vec=[]\n",
    "        for i in range(len(res)-1,-1,-1):\n",
    "            vec.append(res[i])\n",
    "        return vec\n",
    "    \n",
    "    def showPath(self, w):\n",
    "        vec=self.getPath(w)\n",
    "        s=\"\"\n",
    "        for v in vec:\n",
    "            s+=str(v)+\"-->\"\n",
    "        print(s)"
   ]
  },
  {
   "cell_type": "code",
   "execution_count": 2,
   "metadata": {
    "collapsed": true
   },
   "outputs": [],
   "source": [
    "def test_graph(G, n, m):\n",
    "    g=G(n)\n",
    "    \n",
    "    import random\n",
    "    for i in range(m):\n",
    "        a=random.randint(0, n-1)\n",
    "        b=random.randint(0, n-1)\n",
    "        g.addEdge(a, b)\n",
    "        \n",
    "    for i in range(n):\n",
    "        print(i,\" has edges:\",g.getAdjacents(i))\n",
    "    \n",
    "    a=random.randint(0,n-1)\n",
    "    g.path(a)\n",
    "    print(g.getFrom())\n",
    "    \n",
    "    for i in range(5):\n",
    "        a=random.randint(0, n-1)\n",
    "        print(\"has path to \",a,\"? \", g.hasPath(a))\n",
    "        if g.hasPath(a):\n",
    "            g.showPath(a)\n",
    "    \n",
    "    "
   ]
  },
  {
   "cell_type": "code",
   "execution_count": 3,
   "metadata": {
    "collapsed": false
   },
   "outputs": [
    {
     "name": "stdout",
     "output_type": "stream",
     "text": [
      "0  has edges: [6]\n",
      "1  has edges: [1, 2]\n",
      "2  has edges: [1, 4, 7]\n",
      "3  has edges: []\n",
      "4  has edges: [2, 8]\n",
      "5  has edges: [6]\n",
      "6  has edges: [0, 5, 8]\n",
      "7  has edges: [2, 9]\n",
      "8  has edges: [4, 6]\n",
      "9  has edges: [7, 9]\n",
      "[6, 2, -1, -1, 2, 6, 8, 2, 4, 7]\n",
      "has path to  6 ?  True\n",
      "2-->4-->8-->6-->\n",
      "has path to  8 ?  True\n",
      "2-->4-->8-->\n",
      "has path to  8 ?  True\n",
      "2-->4-->8-->\n",
      "has path to  8 ?  True\n",
      "2-->4-->8-->\n",
      "has path to  2 ?  True\n",
      "2-->\n"
     ]
    }
   ],
   "source": [
    "test_graph(Graph, 10, 10)"
   ]
  },
  {
   "cell_type": "code",
   "execution_count": 4,
   "metadata": {
    "collapsed": true
   },
   "outputs": [],
   "source": [
    "g1=Graph(4)"
   ]
  },
  {
   "cell_type": "code",
   "execution_count": 5,
   "metadata": {
    "collapsed": true
   },
   "outputs": [],
   "source": [
    "g1.addEdge(0,1)"
   ]
  },
  {
   "cell_type": "code",
   "execution_count": 6,
   "metadata": {
    "collapsed": true
   },
   "outputs": [],
   "source": [
    "g1.addEdge(1,2)"
   ]
  },
  {
   "cell_type": "code",
   "execution_count": 7,
   "metadata": {
    "collapsed": true
   },
   "outputs": [],
   "source": [
    "g1.addEdge(2,3)"
   ]
  },
  {
   "cell_type": "code",
   "execution_count": 8,
   "metadata": {
    "collapsed": true
   },
   "outputs": [],
   "source": [
    "g1.addEdge(1,3)"
   ]
  },
  {
   "cell_type": "code",
   "execution_count": 9,
   "metadata": {
    "collapsed": true
   },
   "outputs": [],
   "source": [
    "g1.path(0)"
   ]
  },
  {
   "cell_type": "code",
   "execution_count": 10,
   "metadata": {
    "collapsed": false
   },
   "outputs": [
    {
     "data": {
      "text/plain": [
       "True"
      ]
     },
     "execution_count": 10,
     "metadata": {},
     "output_type": "execute_result"
    }
   ],
   "source": [
    "g1.hasPath(1)"
   ]
  },
  {
   "cell_type": "code",
   "execution_count": 11,
   "metadata": {
    "collapsed": false
   },
   "outputs": [
    {
     "data": {
      "text/plain": [
       "True"
      ]
     },
     "execution_count": 11,
     "metadata": {},
     "output_type": "execute_result"
    }
   ],
   "source": [
    "g1.hasPath(2)"
   ]
  },
  {
   "cell_type": "code",
   "execution_count": 12,
   "metadata": {
    "collapsed": false
   },
   "outputs": [
    {
     "name": "stdout",
     "output_type": "stream",
     "text": [
      "0-->1-->\n"
     ]
    }
   ],
   "source": [
    "g1.showPath(1)"
   ]
  },
  {
   "cell_type": "code",
   "execution_count": 13,
   "metadata": {
    "collapsed": false
   },
   "outputs": [
    {
     "name": "stdout",
     "output_type": "stream",
     "text": [
      "0-->1-->2-->3-->\n"
     ]
    }
   ],
   "source": [
    "g1.showPath(3)"
   ]
  },
  {
   "cell_type": "code",
   "execution_count": null,
   "metadata": {
    "collapsed": true
   },
   "outputs": [],
   "source": []
  }
 ],
 "metadata": {
  "kernelspec": {
   "display_name": "Python 3",
   "language": "python",
   "name": "python3"
  },
  "language_info": {
   "codemirror_mode": {
    "name": "ipython",
    "version": 3
   },
   "file_extension": ".py",
   "mimetype": "text/x-python",
   "name": "python",
   "nbconvert_exporter": "python",
   "pygments_lexer": "ipython3",
   "version": "3.5.2"
  }
 },
 "nbformat": 4,
 "nbformat_minor": 2
}
