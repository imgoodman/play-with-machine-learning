{
 "cells": [
  {
   "cell_type": "markdown",
   "metadata": {},
   "source": [
    "# 堆排序\n",
    "\n",
    "## 堆是用树的形式来表示"
   ]
  },
  {
   "cell_type": "markdown",
   "metadata": {},
   "source": [
    "# 最大堆：\n",
    "\n",
    "## （1）任何一个节点不大于其父节点\n",
    "## （2）从上到下，除了最后一层，其他每层的节点数量都是最多的\n",
    "## （3）如果最后一层的节点数量不是达到最多，那么，最后一层的数据都必须集中在左侧。"
   ]
  },
  {
   "cell_type": "markdown",
   "metadata": {},
   "source": [
    "## 首先，用数组来实现最大堆\n",
    "\n",
    "### （1）树的根结点标记索引为1，而不是0开始。\n",
    "### （2） 从上到下逐层，从左至右逐个节点，进行索引标记\n",
    "### （3）元素的索引对应数组的索引\n",
    "### （4）这些索引存在如下关系：索引为i的元素，其父元素索引是i/2；其左子节点元素索引是2*i；右子节点元素索引是2*i+1"
   ]
  },
  {
   "cell_type": "code",
   "execution_count": 1,
   "metadata": {
    "collapsed": true
   },
   "outputs": [],
   "source": [
    "class MaxHeap:\n",
    "    def __init__(self, capacity=None, arr=None):\n",
    "        \"\"\"\n",
    "        最大堆的类\n",
    "        传入堆的容量\n",
    "        或者\n",
    "        使用数组来构造、存储堆\n",
    "        存储的堆的数组，第0个元素是None，有效数值是从索引1开始的\n",
    "        \"\"\"\n",
    "        assert (capacity!=None or arr!=None)\n",
    "        \n",
    "        if arr==None:\n",
    "            self.__data=[None]*(capacity+1)\n",
    "            self.__capacity=capacity\n",
    "            # 实际存储的元素个数\n",
    "            self.__count=0\n",
    "        else:\n",
    "            # 根据数组，来构建堆\n",
    "            self.__capacity=len(arr)+1\n",
    "            self.__count=len(arr)\n",
    "            self.__data=[None]\n",
    "            for a in arr:\n",
    "                self.__data.append(a)\n",
    "                \n",
    "            # 将传入的数组，整理成堆的表示\n",
    "            # 从下往上，整理堆\n",
    "            # 如果数组有count个，则从count/2索引位置开始，进行堆整理\n",
    "            i=int(self.__count/2)\n",
    "            while i>=1:\n",
    "                self.__shiftDown(i)\n",
    "                i-=1\n",
    "    \n",
    "    def size(self):\n",
    "        return self.__count\n",
    "    \n",
    "    def isEmpty(self):\n",
    "        return self.__count==0\n",
    "    \n",
    "    def show(self):\n",
    "        print(self.__data[1:self.__count+1])\n",
    "    \n",
    "    def insert(self, item):\n",
    "        \"\"\"\n",
    "        将新的数字，加入到最大堆中，使得新的堆仍然是最大堆\n",
    "        思路是：\n",
    "        （1）将num加入到数组最后\n",
    "        （2）根据新元素的索引i，找到其父元素的索引i/2，如果父元素大于新的元素，则不需要任何操作\n",
    "        （3）如果父元素小于该新元素，则将父元素和新元素交换位置，并重新设置索引i\n",
    "        （4）以此类推，继续查询新的索引i的父元素，是否满足最大堆的定义\n",
    "        \"\"\"\n",
    "        # 注意：这里的索引是从 1 开始的\n",
    "        assert self.__capacity>=(self.__count+1)\n",
    "        \n",
    "        self.__data[self.__count + 1]=item        \n",
    "        self.__count +=1\n",
    "        \n",
    "        self.__shiftUp()\n",
    "    \n",
    "    def __shiftUp(self):\n",
    "        k=self.__count\n",
    "        #判断元素是否小于其父节点\n",
    "        while k>1 and self.__data[int(k/2)]<self.__data[k]:\n",
    "            # 如果节点的值  大于 其父节点，则交换位置\n",
    "            t=self.__data[int(k/2)]\n",
    "            self.__data[int(k/2)]=self.__data[k]\n",
    "            self.__data[k]=t\n",
    "            \n",
    "            k=int(k/2)\n",
    "    \n",
    "    def extractMax(self):\n",
    "        \"\"\"\n",
    "        取出最大堆的根节点\n",
    "        将数组最后的元素移动到根节点\n",
    "        然后,比较新跟节点的左右两个子节点，将新的根节点与较大的子节点交换位置\n",
    "        以此类推，直到保证新的树仍然是最大堆\n",
    "        \"\"\"\n",
    "        # 返回根节点的值\n",
    "        assert self.__count>0\n",
    "        \n",
    "        res=self.__data[1]\n",
    "        # 将数组最后的元素 交换到根节点\n",
    "        self.__data[1]=self.__data[self.__count]\n",
    "        self.__data[self.__count]=None\n",
    "        self.__count -=1\n",
    "        \n",
    "        # 从上到下，检查是否满足最大堆的要求\n",
    "        self.__shiftDown()\n",
    "        \n",
    "        return res\n",
    "    \n",
    "    def __shiftDown(self, idx=None):\n",
    "        \"\"\"\n",
    "        从上到下检查是否满足最大堆\n",
    "        如果不满足，则将父节点，与左/右子节点进行交换\n",
    "        如果传入idx，表示从索引idx开始往下检查、并满足堆的要求\n",
    "        \"\"\"\n",
    "        k=1\n",
    "        if idx!=None:\n",
    "            k=idx\n",
    "            \n",
    "        while 2*k<=self.__count:\n",
    "            # （1）有左子节点；（2）父节点，必须比子节点大\n",
    "            maxIdx=2*k\n",
    "            if 2*k+1<=self.__count:\n",
    "                if self.__data[2*k+1]>self.__data[2*k]:\n",
    "                    maxIdx=2*k+1\n",
    "            # 如果父元素比子节点都大，则退出循环\n",
    "            if self.__data[k]>self.__data[maxIdx]:\n",
    "                break\n",
    "                \n",
    "            # 如果父节点不是最大的，则交换位置\n",
    "            t=self.__data[k]\n",
    "            self.__data[k]=self.__data[maxIdx]\n",
    "            self.__data[maxIdx]=t\n",
    "            \n",
    "            k=maxIdx"
   ]
  },
  {
   "cell_type": "code",
   "execution_count": 2,
   "metadata": {
    "collapsed": true
   },
   "outputs": [],
   "source": [
    "import numpy as np"
   ]
  },
  {
   "cell_type": "code",
   "execution_count": 3,
   "metadata": {
    "collapsed": false
   },
   "outputs": [
    {
     "name": "stdout",
     "output_type": "stream",
     "text": [
      "[99, 96, 97, 69, 84, 53, 79, 32, 57, 57, 70, 3, 33, 17, 42]\n",
      "[99, 97, 96, 84, 79, 70, 69, 57, 57, 53, 42, 33, 32, 17, 3]\n"
     ]
    }
   ],
   "source": [
    "mh1=MaxHeap(100)\n",
    "for i in np.random.randint(0, 100, 15):\n",
    "    mh1.insert(i)\n",
    "\n",
    "mh1.show()\n",
    "\n",
    "res=[]\n",
    "while mh1.isEmpty()==False:\n",
    "    res.append(mh1.extractMax())\n",
    "print(res)"
   ]
  },
  {
   "cell_type": "markdown",
   "metadata": {
    "collapsed": true
   },
   "source": [
    "# 按照最大堆表示后，每次取根节点出来，最后的输出，就是：所有数字从大到下排序了."
   ]
  },
  {
   "cell_type": "markdown",
   "metadata": {},
   "source": [
    "# 使用最大堆，进行排序"
   ]
  },
  {
   "cell_type": "code",
   "execution_count": 4,
   "metadata": {
    "collapsed": true
   },
   "outputs": [],
   "source": [
    "def heap_sort(arr):\n",
    "    mh1=MaxHeap(len(arr)+1)\n",
    "    \n",
    "    for a in arr:\n",
    "        mh1.insert(a)\n",
    "    \n",
    "    for i in range(len(arr)-1,-1,-1):\n",
    "        arr[i]=mh1.extractMax()"
   ]
  },
  {
   "cell_type": "code",
   "execution_count": 5,
   "metadata": {
    "collapsed": true
   },
   "outputs": [],
   "source": [
    "def test_sort(sort_method, n, top_k=10):\n",
    "    import numpy as np\n",
    "    arr=np.random.randint(0,100,n)\n",
    "    print(\"before sort:\", arr[:top_k])\n",
    "    %%time\n",
    "    sort_method(arr)\n",
    "    print(\"after sort:\",arr[:top_k])"
   ]
  },
  {
   "cell_type": "code",
   "execution_count": 6,
   "metadata": {
    "collapsed": false
   },
   "outputs": [
    {
     "name": "stdout",
     "output_type": "stream",
     "text": [
      "before sort: [17 96 56 94 60 83  3 92 57 57]\n",
      "Wall time: 0 ns\n",
      "after sort: [0 0 0 0 0 0 0 0 0 0]\n"
     ]
    }
   ],
   "source": [
    "test_sort(heap_sort,100000)"
   ]
  },
  {
   "cell_type": "markdown",
   "metadata": {},
   "source": [
    "# 比较不同排序算法，在下列数组中的性能：\n",
    "\n",
    "## （1）随机数组\n",
    "## （2）近乎有序的数组\n",
    "## （3）含有大量重复键值的数组"
   ]
  },
  {
   "cell_type": "markdown",
   "metadata": {},
   "source": [
    "# 根据数组，构建堆的过程"
   ]
  },
  {
   "cell_type": "code",
   "execution_count": 14,
   "metadata": {
    "collapsed": false
   },
   "outputs": [
    {
     "name": "stdout",
     "output_type": "stream",
     "text": [
      "[72, 19, 44, 35, 30, 28, 82, 33, 96, 38]\n",
      "[19, 28, 30, 33, 35, 38, 44, 72, 82, 96]\n"
     ]
    }
   ],
   "source": [
    "import numpy as np\n",
    "arr=np.random.randint(0, 100, 10)\n",
    "arr=arr.tolist()\n",
    "print(arr)\n",
    "mh2=MaxHeap(arr=arr)\n",
    "\n",
    "for i in range(len(arr)-1, -1, -1):\n",
    "    arr[i]=mh2.extractMax()\n",
    "print(arr)"
   ]
  },
  {
   "cell_type": "markdown",
   "metadata": {},
   "source": [
    "# 构建堆的过程比较\n",
    "\n",
    "## （1）元素逐个插入到空堆中，复杂度O(NlogN)\n",
    "\n",
    "## （2）按照传入数组，先从前到后构建一个二叉树，然后，从count/2索引处，开始从下网上，shiftDown整理堆，从而生成最大堆，算法复杂度O(N)"
   ]
  },
  {
   "cell_type": "markdown",
   "metadata": {},
   "source": [
    "# 原地堆排序\n",
    "\n",
    "## 不需要额外的空间，原地对数组进行排序"
   ]
  },
  {
   "cell_type": "code",
   "execution_count": 36,
   "metadata": {
    "collapsed": true
   },
   "outputs": [],
   "source": [
    "class MaxHeap2:\n",
    "    def __init__(self, arr):\n",
    "        \"\"\"\n",
    "        根据数组，先构建完全二叉树，在此基础上创建最大堆\n",
    "        数组索引从0开始\n",
    "        堆中，最后一个非叶子节点索引为(count-1)/2\n",
    "        对于索引为i的节点\n",
    "        （1）其父节点索引：（i-1）/2\n",
    "        （2）其左子节点索引：2*i+1\n",
    "        （3）其右子节点索引：2*i+2\n",
    "        \"\"\"\n",
    "        \n",
    "        # 从最后的非叶子节点开始，向下整理成最大堆\n",
    "        i=int((len(arr)-1)/2)\n",
    "        while i>=0:\n",
    "            self.__shiftDown(arr, len(arr), i)\n",
    "            i-=1\n",
    "        # 经过上述步骤，数组已经整理成最大堆了\n",
    "        \n",
    "        # 在最大堆上，进行原地排序\n",
    "        # 最大堆的特性是：第0个元素是最大值。\n",
    "        # 因此，思路是：先将第0个元素，与数组最后的元素，交换。\n",
    "        # 这样，最大值就到末尾（最大值本来就应该在末尾，很好）\n",
    "        # 在对剩下的数组，整理成最大堆。这样，第二大的数出现在第0个元素位置。再与剩余数组的最后元素交换位置。以此类推。\n",
    "        \n",
    "        i=len(arr)-1\n",
    "        while i>0:\n",
    "            # 第0个元素与第i个元素交换\n",
    "            # 最大的元素移动到了最后的位置\n",
    "            t=arr[0]\n",
    "            arr[0]=arr[i]\n",
    "            arr[i]=t\n",
    "            \n",
    "            self.__shiftDown(arr, i, 0)\n",
    "            i-=1\n",
    "    \n",
    "    def __shiftDown(self, arr, n, k):\n",
    "        \"\"\"\n",
    "        arr：数组\n",
    "        n：数组arr的前n个元素（不包含索引为n的元素）\n",
    "        k：从索引k开始，逐层往下整理\n",
    "        针对二叉树的节点k，将数组的前n个元素，向下整理为最大堆\n",
    "        注意，这里传递了参数n，表示，只是对数组的前n个元素，进行整理为堆。n后续的元素不做考虑。\n",
    "        \"\"\"\n",
    "        while 2*k+1<n:\n",
    "            maxIdx=2*k+1\n",
    "            if 2*k+2<n:\n",
    "                if arr[2*k+2]>arr[maxIdx]:\n",
    "                    maxIdx=2*k+2\n",
    "            if arr[k]<arr[maxIdx]:\n",
    "                t=arr[k]\n",
    "                arr[k]=arr[maxIdx]\n",
    "                arr[maxIdx]=t\n",
    "                \n",
    "                k=maxIdx\n",
    "            else:\n",
    "                break"
   ]
  },
  {
   "cell_type": "code",
   "execution_count": 41,
   "metadata": {
    "collapsed": false
   },
   "outputs": [
    {
     "name": "stdout",
     "output_type": "stream",
     "text": [
      "before sort: [14, 36, 94, 9, 71, 19, 13, 12, 82, 32]\n",
      "Wall time: 0 ns\n",
      "after sort: [0, 0, 0, 0, 0, 0, 0, 0, 0, 0]\n"
     ]
    }
   ],
   "source": [
    "import numpy as np\n",
    "arr=np.random.randint(0, 100, 1000000)\n",
    "arr=arr.tolist()\n",
    "print(\"before sort:\", arr[:10])\n",
    "\n",
    "%time\n",
    "mh1=MaxHeap2(arr)\n",
    "\n",
    "print(\"after sort:\", arr[:10])"
   ]
  },
  {
   "cell_type": "code",
   "execution_count": null,
   "metadata": {
    "collapsed": true
   },
   "outputs": [],
   "source": []
  }
 ],
 "metadata": {
  "kernelspec": {
   "display_name": "Python 3",
   "language": "python",
   "name": "python3"
  },
  "language_info": {
   "codemirror_mode": {
    "name": "ipython",
    "version": 3
   },
   "file_extension": ".py",
   "mimetype": "text/x-python",
   "name": "python",
   "nbconvert_exporter": "python",
   "pygments_lexer": "ipython3",
   "version": "3.5.2"
  }
 },
 "nbformat": 4,
 "nbformat_minor": 2
}
