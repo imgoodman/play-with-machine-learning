{
 "cells": [
  {
   "cell_type": "markdown",
   "metadata": {},
   "source": [
    "# 堆排序\n",
    "\n",
    "## 堆是用树的形式来表示"
   ]
  },
  {
   "cell_type": "markdown",
   "metadata": {},
   "source": [
    "# 最大堆：\n",
    "\n",
    "## （1）任何一个节点不大于其父节点\n",
    "## （2）从上到下，除了最后一层，其他每层的节点数量都是最多的\n",
    "## （3）如果最后一层的节点数量不是达到最多，那么，最后一层的数据都必须集中在左侧。"
   ]
  },
  {
   "cell_type": "markdown",
   "metadata": {},
   "source": [
    "## 首先，用数组来实现最大堆\n",
    "\n",
    "### （1）树的根结点标记索引为1，而不是0开始。\n",
    "### （2） 从上到下逐层，从左至右逐个节点，进行索引标记\n",
    "### （3）元素的索引对应数组的索引\n",
    "### （4）这些索引存在如下关系：索引为i的元素，其父元素索引是i/2；其左子节点元素索引是2*i；右子节点元素索引是2*i+1"
   ]
  },
  {
   "cell_type": "code",
   "execution_count": 15,
   "metadata": {
    "collapsed": true
   },
   "outputs": [],
   "source": [
    "class MaxHeap:\n",
    "    def __init__(self, capacity):\n",
    "        \"\"\"\n",
    "        最大堆的类\n",
    "        传入堆的容量\n",
    "        使用数组来存储堆\n",
    "        \"\"\"\n",
    "        self.__data=[None]*(capacity+1)\n",
    "        self.__capacity=capacity\n",
    "        # 实际存储的元素个数\n",
    "        self.__count=0\n",
    "    \n",
    "    def size(self):\n",
    "        return self.__count\n",
    "    \n",
    "    def isEmpty(self):\n",
    "        return self.__count==0\n",
    "    \n",
    "    def show(self):\n",
    "        print(self.__data[1:self.__count+1])\n",
    "    \n",
    "    def insert(self, item):\n",
    "        \"\"\"\n",
    "        将新的数字，加入到最大堆中，使得新的堆仍然是最大堆\n",
    "        思路是：\n",
    "        （1）将num加入到数组最后\n",
    "        （2）根据新元素的索引i，找到其父元素的索引i/2，如果父元素大于新的元素，则不需要任何操作\n",
    "        （3）如果父元素小于该新元素，则将父元素和新元素交换位置，并重新设置索引i\n",
    "        （4）以此类推，继续查询新的索引i的父元素，是否满足最大堆的定义\n",
    "        \"\"\"\n",
    "        # 注意：这里的索引是从 1 开始的\n",
    "        assert self.__capacity>=(self.__count+1)\n",
    "        \n",
    "        self.__data[self.__count + 1]=item        \n",
    "        self.__count +=1\n",
    "        \n",
    "        self.__shiftUp()\n",
    "    \n",
    "    def __shiftUp(self):\n",
    "        k=self.__count\n",
    "        #判断元素是否小于其父节点\n",
    "        while k>1 and self.__data[int(k/2)]<self.__data[k]:\n",
    "            # 如果节点的值  大于 其父节点，则交换位置\n",
    "            t=self.__data[int(k/2)]\n",
    "            self.__data[int(k/2)]=self.__data[k]\n",
    "            self.__data[k]=t\n",
    "            \n",
    "            k=int(k/2)"
   ]
  },
  {
   "cell_type": "code",
   "execution_count": 16,
   "metadata": {
    "collapsed": true
   },
   "outputs": [],
   "source": [
    "import numpy as np"
   ]
  },
  {
   "cell_type": "code",
   "execution_count": 19,
   "metadata": {
    "collapsed": false
   },
   "outputs": [
    {
     "name": "stdout",
     "output_type": "stream",
     "text": [
      "[71, 69, 57, 67, 54, 6, 0, 3, 27, 44]\n"
     ]
    }
   ],
   "source": [
    "mh1=MaxHeap(100)\n",
    "for i in np.random.randint(0, 100, 10):\n",
    "    mh1.insert(i)\n",
    "\n",
    "\n",
    "mh1.show()"
   ]
  },
  {
   "cell_type": "code",
   "execution_count": null,
   "metadata": {
    "collapsed": true
   },
   "outputs": [],
   "source": []
  }
 ],
 "metadata": {
  "kernelspec": {
   "display_name": "Python 3",
   "language": "python",
   "name": "python3"
  },
  "language_info": {
   "codemirror_mode": {
    "name": "ipython",
    "version": 3
   },
   "file_extension": ".py",
   "mimetype": "text/x-python",
   "name": "python",
   "nbconvert_exporter": "python",
   "pygments_lexer": "ipython3",
   "version": "3.5.2"
  }
 },
 "nbformat": 4,
 "nbformat_minor": 2
}
