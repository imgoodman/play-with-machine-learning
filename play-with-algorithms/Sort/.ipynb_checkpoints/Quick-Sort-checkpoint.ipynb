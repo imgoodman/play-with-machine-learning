{
 "cells": [
  {
   "cell_type": "markdown",
   "metadata": {},
   "source": [
    "# 快速排序 Quick Sort"
   ]
  },
  {
   "cell_type": "code",
   "execution_count": 1,
   "metadata": {},
   "outputs": [],
   "source": [
    "import numpy as np\n",
    "\n",
    "def test_sort(f, n):\n",
    "    import numpy as np\n",
    "    a=np.random.randint(0, 10, n)\n",
    "    print(\"arr before: \", a[:10])\n",
    "    print(\"time used: \")\n",
    "    %time f(a)\n",
    "    print(\"arr after: \", a[:10])"
   ]
  },
  {
   "cell_type": "code",
   "execution_count": 2,
   "metadata": {},
   "outputs": [],
   "source": [
    "def quick_sort(arr):\n",
    "    def __partition(arr, l , r):\n",
    "        \"\"\"\n",
    "        对数组arr[l...r]进行分区，以第一个元素为标准，使得数组的左边都小于该元素，而数组的右边都大于该元素\n",
    "        返回值p，使得arr[l.....p-1]都小于arr[p]，并且arr[p+1...r]都大于arr[p]\n",
    "        \"\"\"\n",
    "        \n",
    "        \"\"\"\n",
    "        （2）优化方法：每次都是以第一个元素作为标定点的话，对于完全有序的数组，\n",
    "        会导致递归树深度为N，算法复杂度退化到O(N^2)。\n",
    "        解决的方法：随机选择标定点。\n",
    "        \"\"\"\n",
    "        \n",
    "        \"\"\"\n",
    "        随机选择标定点，\n",
    "        与第一个元素交换位置        \n",
    "        \n",
    "        rnd=np.random.randint(l, r+1)\n",
    "        t=arr[rnd]\n",
    "        arr[rnd]=arr[l]\n",
    "        arr[l]=t\n",
    "        \"\"\"\n",
    "        \n",
    "        v=arr[l]\n",
    "        j=l\n",
    "        for i in range(l+1, r+1):\n",
    "            if arr[i]<v:\n",
    "                # 交换位置\n",
    "                t=arr[i]\n",
    "                arr[i]=arr[j+1]\n",
    "                arr[j+1]=t\n",
    "                \n",
    "                j+=1\n",
    "        arr[l]=arr[j]\n",
    "        arr[j]=v\n",
    "        return j\n",
    "        \n",
    "    def __quick_sort(arr, l, r):\n",
    "        \"\"\"\n",
    "        对数组arr[l...r]前闭后闭进行快速排序\n",
    "        \"\"\"\n",
    "        \n",
    "        \"\"\"\n",
    "        （1）改进方法：当子数组的规模较小的时候（10-20左右），可以集成使用其他的排序方法，例如插入排序等。\n",
    "        \"\"\"\n",
    "        if l>=r:\n",
    "            return\n",
    "        # 以数组arr的第一个元素为标准，返回数组arr[l...r]的分界点\n",
    "        p=__partition(arr, l, r)\n",
    "        # 递归地对arr[l...p-1] 和 arr[p+1...r] 分别进行快速排序\n",
    "        __quick_sort(arr, l, p-1)\n",
    "        __quick_sort(arr, p+1, r)\n",
    "    \n",
    "    __quick_sort(arr, 0, len(arr)-1)"
   ]
  },
  {
   "cell_type": "code",
   "execution_count": 3,
   "metadata": {},
   "outputs": [
    {
     "name": "stdout",
     "output_type": "stream",
     "text": [
      "arr before:  [7 6 7 3 1 8 6 7 8 6]\n",
      "time used: \n",
      "Wall time: 701 ms\n",
      "arr after:  [0 0 0 0 0 0 0 0 0 0]\n"
     ]
    }
   ],
   "source": [
    "import sys\n",
    "sys.setrecursionlimit(10000)\n",
    "test_sort(quick_sort, 10000)"
   ]
  },
  {
   "cell_type": "markdown",
   "metadata": {},
   "source": [
    "# 优化方法：\n",
    "\n",
    "## （1）与归并算法相似，当数组经过分区后，子数组的规模会不断减小。当子数组的规模减小到比较小的情况下（例如：子数组的长度10~20），此时，针对该子数组，可以使用其他排序方法，例如：插入排序等。\n",
    "\n",
    "## （2）由于通常是以第一个元素作为标定点，将数组进行分区。因此，极端情况下，数组是完全有序的，那么，每次分区，只是把第一个元素减掉而已，继续对剩下的子数组进行分区。因此，该情况下，递归树的深度将达到N，算法复杂度会退化到O(N^2)级别。此时的递归树是不平衡的。优化的思路是：不再以第一个元素作为标准点，而是随机选择一个元素，作为标准点。降低递归树的深度。\n",
    "\n",
    "## （3）在归并算法中，每次机会都是将数组左右均分，因此，递归树的深度为log(N)。这样的递归树是平衡树。"
   ]
  },
  {
   "cell_type": "code",
   "execution_count": 4,
   "metadata": {},
   "outputs": [
    {
     "data": {
      "text/plain": [
       "4"
      ]
     },
     "execution_count": 4,
     "metadata": {},
     "output_type": "execute_result"
    }
   ],
   "source": [
    "np.random.randint(0,9)"
   ]
  },
  {
   "cell_type": "markdown",
   "metadata": {},
   "source": [
    "# 上述算法中，将小于v的放在左边，大于v的放在右边。\n",
    "\n",
    "# 如果在数组中，v重复的次数非常多（例如：数组规模是百万，而每个数都是0-9之间的取值），那么，会导致，分区的时候，两个区非常不平衡。分区不平衡，就有很大可能，导致递归树深度过大，以至于退化为O(N^2)的极端情况。"
   ]
  },
  {
   "cell_type": "markdown",
   "metadata": {},
   "source": [
    "# 在重复键值中，效率更高"
   ]
  },
  {
   "cell_type": "code",
   "execution_count": 14,
   "metadata": {},
   "outputs": [],
   "source": [
    "def quick_sort_2(arr):\n",
    "    import numpy as np\n",
    "    def __partition_2(arr, l, r):\n",
    "        \"\"\"\n",
    "        随机找到标定点\n",
    "        \"\"\"\n",
    "        rnd=np.random.randint(l, r+1)\n",
    "        \"\"\"\n",
    "        将标定点交换到第一个元素位置\n",
    "        \"\"\"\n",
    "        t=arr[rnd]\n",
    "        arr[rnd]=arr[l]\n",
    "        arr[l]=t\n",
    "        \n",
    "        \"\"\"\n",
    "        标定点v\n",
    "        \"\"\"\n",
    "        v=arr[l]\n",
    "        \n",
    "        \"\"\"\n",
    "        注意区间闭合情况：\n",
    "        arr[l+1...i) <=v\n",
    "        arr(j...r] >=v\n",
    "        \n",
    "        i,j 这样的初始化，目的是，保证上述两个区间是空的\n",
    "        \"\"\"\n",
    "        i=l+1\n",
    "        j=r\n",
    "        \n",
    "        while True:\n",
    "            \"\"\"\n",
    "            直到遇到第一个大于等于v的元素\n",
    "            \"\"\"\n",
    "            while i<=r and arr[i]<v:\n",
    "                i+=1\n",
    "            \n",
    "            \"\"\"\n",
    "            直到遇到第一个小于等于v的元素\n",
    "            \"\"\"\n",
    "            while j>=(l+1) and arr[j]>v:\n",
    "                j-=1\n",
    "            \n",
    "            if i>j:\n",
    "                break\n",
    "            \n",
    "            t=arr[i]\n",
    "            arr[i]=arr[j]\n",
    "            arr[j]=t\n",
    "            \n",
    "            i+=1\n",
    "            j-=1\n",
    "            \n",
    "        t=arr[j]\n",
    "        arr[j]=v\n",
    "        arr[l]=t\n",
    "        return j\n",
    "    \n",
    "    def __quick_sort_2(arr, l, r):\n",
    "        if l>=r:\n",
    "            return\n",
    "        \n",
    "        p=__partition_2(arr, l ,r)\n",
    "        \n",
    "        __quick_sort_2(arr, l, p-1)\n",
    "        __quick_sort_2(arr, p+1, r)\n",
    "    \n",
    "    __quick_sort_2(arr, 0, len(arr)-1)"
   ]
  },
  {
   "cell_type": "code",
   "execution_count": 15,
   "metadata": {},
   "outputs": [
    {
     "name": "stdout",
     "output_type": "stream",
     "text": [
      "arr before:  [0 6 2 3 9 8 5 9 8 4]\n",
      "time used: \n",
      "Wall time: 66 ms\n",
      "arr after:  [0 0 0 0 0 0 0 0 0 0]\n"
     ]
    }
   ],
   "source": [
    "test_sort(quick_sort_2, 10000)"
   ]
  },
  {
   "cell_type": "markdown",
   "metadata": {},
   "source": [
    "# 三路快排 Quick Sort 3 Ways"
   ]
  },
  {
   "cell_type": "markdown",
   "metadata": {},
   "source": [
    "# 在处理具有较多的重复键值数组中，效率很显著的好"
   ]
  },
  {
   "cell_type": "code",
   "execution_count": 20,
   "metadata": {},
   "outputs": [],
   "source": [
    "def quick_sort_3(arr):\n",
    "    import numpy as np\n",
    "    def __partition_3(arr, l, r):\n",
    "        \"\"\"\n",
    "        随机找到标定点\n",
    "        \"\"\"\n",
    "        rnd=np.random.randint(l, r+1)\n",
    "        \"\"\"\n",
    "        将标定点交换到第一个元素位置\n",
    "        \"\"\"\n",
    "        t=arr[rnd]\n",
    "        arr[rnd]=arr[l]\n",
    "        arr[l]=t\n",
    "        \n",
    "        \"\"\"\n",
    "        标定点v\n",
    "        \"\"\"\n",
    "        v=arr[l]\n",
    "        \n",
    "        \"\"\"\n",
    "        arr[l+1...lt]<v\n",
    "        arr[lt+1...i)==v\n",
    "        arr[gt...r]>v\n",
    "        \"\"\"\n",
    "        lt=l\n",
    "        i=l+1\n",
    "        gt=r+1\n",
    "        \n",
    "        while i<gt:\n",
    "            if arr[i]<v:\n",
    "                t=arr[i]\n",
    "                arr[i]=arr[lt+1]\n",
    "                arr[lt+1]=t\n",
    "                \n",
    "                i+=1\n",
    "                lt+=1\n",
    "            elif arr[i]==v:\n",
    "                i+=1\n",
    "            else:\n",
    "                t=arr[i]\n",
    "                arr[i]=arr[gt-1]\n",
    "                arr[gt-1]=t\n",
    "                \n",
    "                gt-=1\n",
    "        t=arr[lt]\n",
    "        arr[lt]=v\n",
    "        arr[l]=t\n",
    "        \n",
    "        lt-=1\n",
    "        \n",
    "        return lt,gt\n",
    "    \n",
    "    def __quick_sort_3(arr, l, r):\n",
    "        if l>=r:\n",
    "            return\n",
    "        \n",
    "        lt,gt=__partition_3(arr, l ,r)\n",
    "        __quick_sort_3(arr, l, lt)\n",
    "        __quick_sort_3(arr, gt, r)\n",
    "    \n",
    "    __quick_sort_3(arr, 0, len(arr)-1)"
   ]
  },
  {
   "cell_type": "code",
   "execution_count": 23,
   "metadata": {},
   "outputs": [
    {
     "name": "stdout",
     "output_type": "stream",
     "text": [
      "arr before:  [2 9 4 0 9 2 8 2 5 6]\n",
      "time used: \n",
      "Wall time: 226 ms\n",
      "arr after:  [0 0 0 0 0 0 0 0 0 0]\n"
     ]
    }
   ],
   "source": [
    "test_sort(quick_sort_3, 100000)"
   ]
  },
  {
   "cell_type": "code",
   "execution_count": null,
   "metadata": {},
   "outputs": [],
   "source": []
  }
 ],
 "metadata": {
  "kernelspec": {
   "display_name": "Python 3",
   "language": "python",
   "name": "python3"
  },
  "language_info": {
   "codemirror_mode": {
    "name": "ipython",
    "version": 3
   },
   "file_extension": ".py",
   "mimetype": "text/x-python",
   "name": "python",
   "nbconvert_exporter": "python",
   "pygments_lexer": "ipython3",
   "version": "3.6.2"
  }
 },
 "nbformat": 4,
 "nbformat_minor": 2
}
