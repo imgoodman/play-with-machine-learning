{
 "cells": [
  {
   "cell_type": "code",
   "execution_count": 1,
   "metadata": {
    "collapsed": true
   },
   "outputs": [],
   "source": [
    "import numpy as np\n",
    "\n",
    "def test_sort(f, n):\n",
    "    import numpy as np\n",
    "    a=np.random.randint(0, 10, n)\n",
    "    print(\"arr before: \", a[:100])\n",
    "    print(\"time used: \")\n",
    "    %time f(a)\n",
    "    print(\"arr after: \", a[:100])"
   ]
  },
  {
   "cell_type": "markdown",
   "metadata": {},
   "source": [
    "# 冒泡排序"
   ]
  },
  {
   "cell_type": "code",
   "execution_count": 2,
   "metadata": {
    "collapsed": true
   },
   "outputs": [],
   "source": [
    "def bubble_sort_1(arr):\n",
    "    # i 表示互换元素的第一个元素\n",
    "    l=len(arr)-1\n",
    "    while l>1:        \n",
    "        for i in range(l):\n",
    "            if arr[i]>arr[i+1]:\n",
    "                t=arr[i]\n",
    "                arr[i]=arr[i+1]\n",
    "                arr[i+1]=t\n",
    "        l-=1"
   ]
  },
  {
   "cell_type": "code",
   "execution_count": 3,
   "metadata": {
    "collapsed": false
   },
   "outputs": [
    {
     "name": "stdout",
     "output_type": "stream",
     "text": [
      "arr before:  [7 5 6 1 4 0 4 2 7 0]\n",
      "time used: \n",
      "Wall time: 0 ns\n",
      "arr after:  [0 0 1 2 4 4 5 6 7 7]\n"
     ]
    }
   ],
   "source": [
    "test_sort(bubble_sort_1, 10)"
   ]
  },
  {
   "cell_type": "code",
   "execution_count": 4,
   "metadata": {
    "collapsed": false
   },
   "outputs": [
    {
     "name": "stdout",
     "output_type": "stream",
     "text": [
      "arr before:  [5 1 4 4 6 9 6 9 6 8 2 6 5 4 0 6 4 2 4 1 2 0 8 7 3 3 2 9 2 6 4 3 4 1 1 7 4\n",
      " 1 3 2 3 9 9 7 7 9 9 8 1 1 2 7 2 2 0 8 1 4 9 5 4 2 1 2 0 9 4 9 4 2 3 5 1 5\n",
      " 8 1 8 4 4 3 5 3 9 3 8 0 4 2 9 0 2 3 7 1 7 5 0 9 6 4]\n",
      "time used: \n",
      "Wall time: 3.02 ms\n",
      "arr after:  [0 0 0 0 0 0 0 1 1 1 1 1 1 1 1 1 1 1 1 2 2 2 2 2 2 2 2 2 2 2 2 2 2 3 3 3 3\n",
      " 3 3 3 3 3 3 4 4 4 4 4 4 4 4 4 4 4 4 4 4 4 4 5 5 5 5 5 5 5 6 6 6 6 6 6 6 7\n",
      " 7 7 7 7 7 7 8 8 8 8 8 8 8 9 9 9 9 9 9 9 9 9 9 9 9 9]\n"
     ]
    }
   ],
   "source": [
    "test_sort(bubble_sort_1, 100)"
   ]
  },
  {
   "cell_type": "code",
   "execution_count": 5,
   "metadata": {
    "collapsed": false
   },
   "outputs": [
    {
     "name": "stdout",
     "output_type": "stream",
     "text": [
      "arr before:  [6 1 4 5 4 7 3 4 8 2 8 9 4 2 1 2 0 0 9 7 8 9 2 6 4 6 1 0 6 0 5 2 1 0 0 4 8\n",
      " 3 3 0 0 8 5 8 1 2 5 9 0 3 9 9 6 5 6 0 9 5 7 2 7 5 0 2 6 9 9 7 5 6 1 9 1 1\n",
      " 3 8 9 2 5 7 3 5 0 4 8 6 0 1 8 9 8 7 7 9 9 9 3 7 1 1]\n",
      "time used: \n",
      "Wall time: 272 ms\n",
      "arr after:  [0 0 0 0 0 0 0 0 0 0 0 0 0 0 0 0 0 0 0 0 0 0 0 0 0 0 0 0 0 0 0 0 0 0 0 0 0\n",
      " 0 0 0 0 0 0 0 0 0 0 0 0 0 0 0 0 0 0 0 0 0 0 0 0 0 0 0 0 0 0 0 0 0 0 0 0 0\n",
      " 0 0 0 0 0 0 0 0 0 0 0 0 0 0 0 0 0 0 0 0 1 1 1 1 1 1]\n"
     ]
    }
   ],
   "source": [
    "test_sort(bubble_sort_1, 1000)"
   ]
  },
  {
   "cell_type": "code",
   "execution_count": null,
   "metadata": {
    "collapsed": true
   },
   "outputs": [],
   "source": []
  }
 ],
 "metadata": {
  "kernelspec": {
   "display_name": "Python 3",
   "language": "python",
   "name": "python3"
  },
  "language_info": {
   "codemirror_mode": {
    "name": "ipython",
    "version": 3
   },
   "file_extension": ".py",
   "mimetype": "text/x-python",
   "name": "python",
   "nbconvert_exporter": "python",
   "pygments_lexer": "ipython3",
   "version": "3.5.2"
  }
 },
 "nbformat": 4,
 "nbformat_minor": 2
}
