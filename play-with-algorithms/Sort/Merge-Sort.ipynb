{
 "cells": [
  {
   "cell_type": "code",
   "execution_count": 1,
   "metadata": {
    "collapsed": true
   },
   "outputs": [],
   "source": [
    "import numpy as np\n",
    "def test_sort(f, n):\n",
    "    import numpy as np\n",
    "    a=np.random.randint(0, 10, n)\n",
    "    print(\"arr before: \", a[:10])\n",
    "    print(\"time used: \")\n",
    "    %time f(a)\n",
    "    print(\"arr after: \", a[:10])"
   ]
  },
  {
   "cell_type": "markdown",
   "metadata": {},
   "source": [
    "# 归并排序 Merge Sort\n",
    "\n",
    "## 1. 将数组分为两子数组，分别对两个子数组进行排序，然后再归并起来。\n",
    "## 2. 对于子数组，再分为左右两个子数组\n",
    "## 3. 一直这样拆分下去，直到子数组的长度为1了。\n",
    "## 4. 然后对长度为1的子数组，进行归并merge\n",
    "## 5. 再逐层往上层merge"
   ]
  },
  {
   "cell_type": "markdown",
   "metadata": {},
   "source": [
    "# 书写算法的时候\n",
    "# 定义变量的时候，一定要非常明确变量的含义\n",
    "# 并且，在算法的整个实现过程中，都要维持该变量的含义不变\n",
    "# 不然，算法中产生的bug问题，很可能就是由这方面的原因导致的 "
   ]
  },
  {
   "cell_type": "code",
   "execution_count": 7,
   "metadata": {
    "collapsed": true
   },
   "outputs": [],
   "source": [
    "def merge_sort(arr):\n",
    "    def __merge(arr, l, mid, r):\n",
    "        \"\"\"\n",
    "        将有序数组arr[l...mid]与有序数组arr[mid+1...r]进行合并操作，形成新的有序数组\n",
    "        实现过程：\n",
    "        （1）开辟两个新的空间，复制arr[l...mid]到arr_l 和 复制arr[mid+1...r]到arr_r。\n",
    "        （2）定义三个指针。其中，定义指针p，指向arr的元素l\n",
    "        （3）定义指针p1，指向arr_l的元素0\n",
    "        （4）定义指针p2，指向arr_r的元素0\n",
    "        （5）比较指针p1与p2的元素大小\n",
    "        （6）较小的元素，取值，赋值给arr指针p的元素。\n",
    "        （7）指针p后移一步。\n",
    "        （8）较小指针后移一步。\n",
    "        （9）一定要注意：数组越界的情况。 \n",
    "        \"\"\"\n",
    "        # 复制arr[l...r]\n",
    "        arr_l=[]\n",
    "        arr_r=[]\n",
    "        for i in range(l,r+1):\n",
    "            if i<mid+1:\n",
    "                arr_l.append(arr[i])\n",
    "            else:\n",
    "                arr_r.append(arr[i])\n",
    "        #print(\"arr left:\", arr_l, \"; arr right:\",arr_r)\n",
    "        # arr[l...r]的指针\n",
    "        p=l\n",
    "        # arr_l左边数组的指针\n",
    "        p1=0\n",
    "        # arr_r右边数组的指针\n",
    "        p2=0\n",
    "        while p<r+1:\n",
    "            #print(\"p:\",p,\";p1:\",p1,\";p2:\",p2)\n",
    "            if p1>=len(arr_l):\n",
    "                arr[p]=arr_r[p2]\n",
    "                p2+=1\n",
    "            elif p2>=len(arr_r):\n",
    "                arr[p]=arr_l[p1]\n",
    "                p1+=1\n",
    "            else:                \n",
    "                if arr_l[p1]<=arr_r[p2]:\n",
    "                    arr[p]=arr_l[p1]\n",
    "                    p1+=1\n",
    "                else:\n",
    "                    arr[p]=arr_r[p2]\n",
    "                    p2+=1\n",
    "            p+=1\n",
    "        # 释放临时空间\n",
    "        del arr_l\n",
    "        del arr_r\n",
    "                \n",
    "    def __merge_sort(arr, l, r):\n",
    "        \"\"\"\n",
    "        递归使用归并排序，对arr[l...r]前闭后闭进行排序，也就是既包含最左边的元素，也包括最右边的元素\n",
    "        l:待排序数组的最左边索引\n",
    "        r：待排序数组的最右边索引\n",
    "        \"\"\"\n",
    "        if l>=r:\n",
    "            return\n",
    "        \n",
    "        mid=int((l+r)/2)\n",
    "        __merge_sort(arr, l, mid)\n",
    "        __merge_sort(arr, mid+1, r)\n",
    "        \n",
    "        \"\"\"\n",
    "        这里可以优化\n",
    "        arr[l...mid]是有序的\n",
    "        arr[mid+1...r]也是有序的\n",
    "        如果arr[mid]<=arr[mid+1]\n",
    "        则说明，arr左侧部分都小于arr右侧部分\n",
    "        因此，不需要归并了。\n",
    "        \n",
    "        这个优化，对于“近乎有序数组”的效果比较明显。\n",
    "        与插入排序的优化思路类似，有提前终止的情况\n",
    "        \"\"\"\n",
    "        if arr[mid]>arr[mid+1]:\n",
    "            __merge(arr, l, mid, r)\n",
    "    \n",
    "    __merge_sort(arr, 0 ,len(arr)-1)"
   ]
  },
  {
   "cell_type": "code",
   "execution_count": 8,
   "metadata": {
    "collapsed": false
   },
   "outputs": [
    {
     "name": "stdout",
     "output_type": "stream",
     "text": [
      "arr before:  [9 4 4 7 6 1 9 5 5 3]\n",
      "time used: \n",
      "Wall time: 13 ms\n",
      "arr after:  [0 0 0 0 0 0 0 0 0 0]\n"
     ]
    }
   ],
   "source": [
    "test_sort(merge_sort, 1000)"
   ]
  },
  {
   "cell_type": "markdown",
   "metadata": {},
   "source": [
    "## 自底向上归并排序"
   ]
  },
  {
   "cell_type": "code",
   "execution_count": 19,
   "metadata": {
    "collapsed": true
   },
   "outputs": [],
   "source": [
    "def merge_sort_bottom_up(arr):\n",
    "    def __merge(arr, l, mid, r):\n",
    "        \"\"\"\n",
    "        将已经排序好的arr[l...mid]和arr[mid+1...r]进行归并排序\n",
    "        \"\"\"\n",
    "        arr_l=[]\n",
    "        arr_r=[]\n",
    "        for i in range(l,r+1):\n",
    "            if i<=mid:\n",
    "                arr_l.append(arr[i])\n",
    "            else:\n",
    "                arr_r.append(arr[i])\n",
    "        p=l\n",
    "        p1=0\n",
    "        p2=0\n",
    "        for i in range(r+1-l):\n",
    "            if p1>=len(arr_l):\n",
    "                arr[p]=arr_r[p2]\n",
    "                p2+=1\n",
    "            elif p2>=len(arr_r):\n",
    "                arr[p]=arr_l[p1]\n",
    "                p1+=1\n",
    "            else:\n",
    "                if arr_l[p1]<=arr_r[p2]:\n",
    "                    arr[p]=arr_l[p1]\n",
    "                    p1+=1\n",
    "                else:\n",
    "                    arr[p]=arr_r[p2]\n",
    "                    p2+=1\n",
    "            p+=1\n",
    "            \n",
    "    sizes=[]\n",
    "    sz=1\n",
    "    while sz<len(arr):\n",
    "        sizes.append(sz)\n",
    "        sz=2*sz\n",
    "    for size in sizes:\n",
    "        for i in range(0, len(arr), size*2):\n",
    "            #print(\"size:\", size,\";i:\",i,\";i+size-1:\",i+size-1, \";i+2*size-1\",i+2*size-1)\n",
    "            if (i+size)<len(arr):\n",
    "                __merge(arr, i, i+size-1, min(len(arr)-1, i+2*size-1))"
   ]
  },
  {
   "cell_type": "code",
   "execution_count": 20,
   "metadata": {
    "collapsed": false
   },
   "outputs": [
    {
     "name": "stdout",
     "output_type": "stream",
     "text": [
      "arr before:  [0 6 9 5 5 6 6 2 4 7]\n",
      "time used: \n",
      "Wall time: 998 µs\n",
      "arr after:  [0 2 4 5 5 6 6 6 7 9]\n"
     ]
    }
   ],
   "source": [
    "test_sort(merge_sort_bottom_up, 10)"
   ]
  },
  {
   "cell_type": "markdown",
   "metadata": {},
   "source": [
    "# 时刻注意数组越界的问题"
   ]
  },
  {
   "cell_type": "code",
   "execution_count": null,
   "metadata": {
    "collapsed": true
   },
   "outputs": [],
   "source": []
  }
 ],
 "metadata": {
  "kernelspec": {
   "display_name": "Python 3",
   "language": "python",
   "name": "python3"
  },
  "language_info": {
   "codemirror_mode": {
    "name": "ipython",
    "version": 3
   },
   "file_extension": ".py",
   "mimetype": "text/x-python",
   "name": "python",
   "nbconvert_exporter": "python",
   "pygments_lexer": "ipython3",
   "version": "3.5.2"
  }
 },
 "nbformat": 4,
 "nbformat_minor": 2
}
