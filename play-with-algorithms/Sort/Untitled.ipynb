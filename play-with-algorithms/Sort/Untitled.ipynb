{
 "cells": [
  {
   "cell_type": "markdown",
   "metadata": {},
   "source": [
    "# Insertion Sort 插入排序的思想：\n",
    "\n",
    "## 打牌的时候，整理扑克牌的操作方式。\n",
    "\n",
    "## 假装前面的数组已经排序好了，去剩余数组第一个元素，与前面的排序好的数组，由近及远进行比较。如果前面的元素大，则交换位置。"
   ]
  },
  {
   "cell_type": "markdown",
   "metadata": {},
   "source": [
    "1. 8 6 2 3 1 5 7 4\n",
    "2. 6 8 2 3 1 5 7 4\n",
    "3. 6 2 8 3 1 5 7 4\n",
    "4. 2 6 8 3 1 5 7 4\n",
    "5. 2 6 3 8 1 5 7 4\n",
    "6. 2 3 6 8 1 5 7 4\n",
    "7. 2 3 4 1 8 5 7 4\n",
    "8. 2 3 1 4 8 5 7 4\n",
    "9. 2 1 3 4 8 5 7 4\n",
    "10. 1 2 3 4 8 5 7 4\n",
    "11. 1 2 3 4 5 8 7 4\n",
    "12. 1 2 3 4 5 7 8 4\n",
    "13. 1 2 3 4 5 7 4 8\n",
    "14. 1 2 3 4 5 4 7 8\n",
    "15. 1 2 3 4 4 5 7 8"
   ]
  },
  {
   "cell_type": "code",
   "execution_count": 17,
   "metadata": {},
   "outputs": [],
   "source": [
    "def insertion_sort(arr):\n",
    "    for i in range(1, len(arr)):\n",
    "        cur_idx=i\n",
    "        for j in range(i-1,-1,-1):\n",
    "            if arr[j]>arr[cur_idx]:\n",
    "                t=arr[cur_idx]\n",
    "                arr[cur_idx]=arr[j]\n",
    "                arr[j]=t\n",
    "                \n",
    "                cur_idx=j\n",
    "            else:\n",
    "                break"
   ]
  },
  {
   "cell_type": "markdown",
   "metadata": {},
   "source": [
    "# 下面的方式，比我自己实现的好"
   ]
  },
  {
   "cell_type": "code",
   "execution_count": 23,
   "metadata": {},
   "outputs": [],
   "source": [
    "\"\"\"\n",
    "imooc版\n",
    "\"\"\"\n",
    "def insertion_sort(arr):\n",
    "    for i in range(1, len(arr)):\n",
    "        \"\"\"\n",
    "        包含当前元素，相邻元素互相比较，如果前者大，则交换位置。否则，退出本次循环\n",
    "        \"\"\"\n",
    "        for j in range(i,0,-1):\n",
    "            if arr[j]<arr[j-1]:\n",
    "                t=arr[j]\n",
    "                arr[j]=arr[j-1]\n",
    "                arr[j-1]=t\n",
    "            else:\n",
    "                break"
   ]
  },
  {
   "cell_type": "code",
   "execution_count": 18,
   "metadata": {},
   "outputs": [
    {
     "name": "stdout",
     "output_type": "stream",
     "text": [
      "a before:  [3 1 4 4 3 7 5 7 0 4]\n",
      "time:\n",
      "Wall time: 0 ns\n",
      "a after:  [0 1 3 3 4 4 4 5 7 7]\n"
     ]
    }
   ],
   "source": [
    "import numpy as np\n",
    "\n",
    "a=np.random.randint(0, 10, 10)\n",
    "print(\"a before: \", a)\n",
    "print(\"time:\")\n",
    "%time insertion_sort(a)\n",
    "print(\"a after: \", a)"
   ]
  },
  {
   "cell_type": "code",
   "execution_count": 19,
   "metadata": {},
   "outputs": [],
   "source": [
    "def test_sort(f, n):\n",
    "    import numpy as np\n",
    "    a=np.random.randint(0, 10, n)\n",
    "    print(\"arr before: \", a[:10])\n",
    "    print(\"time used: \")\n",
    "    %time f(a)\n",
    "    print(\"arr after: \", a[:10])"
   ]
  },
  {
   "cell_type": "code",
   "execution_count": 20,
   "metadata": {},
   "outputs": [
    {
     "name": "stdout",
     "output_type": "stream",
     "text": [
      "arr before:  [7 5 2 2 1 9 4 6 8 4]\n",
      "time used: \n",
      "Wall time: 0 ns\n",
      "arr after:  [1 2 2 4 4 5 6 7 8 9]\n"
     ]
    }
   ],
   "source": [
    "test_sort(insertion_sort, 10)"
   ]
  },
  {
   "cell_type": "code",
   "execution_count": 21,
   "metadata": {},
   "outputs": [
    {
     "name": "stdout",
     "output_type": "stream",
     "text": [
      "arr before:  [3 3 1 3 8 3 6 2 9 4]\n",
      "time used: \n",
      "Wall time: 121 ms\n",
      "arr after:  [0 0 0 0 0 0 0 0 0 0]\n"
     ]
    }
   ],
   "source": [
    "test_sort(insertion_sort, 1000)"
   ]
  },
  {
   "cell_type": "code",
   "execution_count": null,
   "metadata": {},
   "outputs": [],
   "source": []
  }
 ],
 "metadata": {
  "kernelspec": {
   "display_name": "Python 3",
   "language": "python",
   "name": "python3"
  },
  "language_info": {
   "codemirror_mode": {
    "name": "ipython",
    "version": 3
   },
   "file_extension": ".py",
   "mimetype": "text/x-python",
   "name": "python",
   "nbconvert_exporter": "python",
   "pygments_lexer": "ipython3",
   "version": "3.6.2"
  }
 },
 "nbformat": 4,
 "nbformat_minor": 2
}
