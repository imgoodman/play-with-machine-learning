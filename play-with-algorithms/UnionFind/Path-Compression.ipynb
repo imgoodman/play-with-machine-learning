{
 "cells": [
  {
   "cell_type": "markdown",
   "metadata": {},
   "source": [
    "# 路径压缩 Path Compression"
   ]
  },
  {
   "cell_type": "code",
   "execution_count": 1,
   "metadata": {
    "collapsed": true
   },
   "outputs": [],
   "source": [
    "class UnionFind4:\n",
    "    def __init__(self, n):\n",
    "        \"\"\"\n",
    "        构造并查集 \n",
    "        \"\"\"\n",
    "        self.__count=n\n",
    "        # 初始化的时候，每个元素的父元素，指向自己\n",
    "        # 这样，初始的时候，两两元素互不连接\n",
    "        self.__parent=[i for i in range(n)]\n",
    "        \n",
    "        # 单纯依靠根节点包含的元素数量，不足以 尽可能地降低树的深度\n",
    "        # 这里，还要考虑根节点本身的层数，也就是rank\n",
    "        # 记录以元素 i 为根节点的集合中，树的高度\n",
    "        # 初始化都是1 \n",
    "        self.__rank=[1 for i in range(n)]\n",
    "    \n",
    "    def find(self, p):\n",
    "        \"\"\"\n",
    "        查看元素，返回元素的根元素\n",
    "        路径压缩优化：查找的时候，往上跨两步\n",
    "        \"\"\"\n",
    "        assert p>=0 and p<self.__count\n",
    "        \n",
    "        # 这里用到递归\n",
    "        # 就涉及到递归树的深度\n",
    "        # 因此，要尽量使得递归树深度小\n",
    "        \"\"\"\n",
    "        while p!=self.__parent[p]:\n",
    "            # 路径压缩核心\n",
    "            # 一下子，跨越两步\n",
    "            # 而不是逐步往根节点查询\n",
    "            self.__parent[p]=self.__parent[self.__parent[p]]\n",
    "            \n",
    "            p=self.__parent[p]\n",
    "        return p\n",
    "        \"\"\"\n",
    "    \n",
    "        # 进一步优化\n",
    "        if p!=self.__parent[p]:\n",
    "            self.__parent[p] = self.find(self.__parent[p])\n",
    "        return self.__parent[p]\n",
    "    \n",
    "    def isConnected(self, p, q):\n",
    "        \"\"\"\n",
    "        检查两个元素是否属于同一个根\n",
    "        \"\"\"\n",
    "        return self.find(p)==self.find(q)\n",
    "    \n",
    "    def unionElements(self, p, q):\n",
    "        \"\"\"\n",
    "        将两个元素合并，也就是使得其根节点一样\n",
    "        \"\"\"\n",
    "        pRoot=self.find(p)\n",
    "        qRoot=self.find(q)\n",
    "        \n",
    "        if pRoot==qRoot:\n",
    "            return\n",
    "                   \n",
    "        # 第二步优化：考虑两个根节点的树深度（层级）\n",
    "        # 优化之后\n",
    "        if self.__rank[pRoot]<self.__rank[qRoot]:\n",
    "            self.__parent[pRoot]=qRoot\n",
    "        elif self.__rank[pRoot]>self.__rank[qRoot]:\n",
    "            self.__parent[qRoot]=pRoot\n",
    "        else:\n",
    "            # 相等\n",
    "            self.__parent[qRoot]=qRoot\n",
    "            # 注意，层级有变化\n",
    "            self.__rank[pRoot]+=1"
   ]
  },
  {
   "cell_type": "code",
   "execution_count": null,
   "metadata": {
    "collapsed": true
   },
   "outputs": [],
   "source": []
  }
 ],
 "metadata": {
  "kernelspec": {
   "display_name": "Python 3",
   "language": "python",
   "name": "python3"
  },
  "language_info": {
   "codemirror_mode": {
    "name": "ipython",
    "version": 3
   },
   "file_extension": ".py",
   "mimetype": "text/x-python",
   "name": "python",
   "nbconvert_exporter": "python",
   "pygments_lexer": "ipython3",
   "version": "3.6.2"
  }
 },
 "nbformat": 4,
 "nbformat_minor": 2
}
